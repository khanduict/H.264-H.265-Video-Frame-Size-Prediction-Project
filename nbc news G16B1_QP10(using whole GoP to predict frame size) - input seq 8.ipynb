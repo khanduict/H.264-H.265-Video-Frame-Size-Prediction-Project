{
 "cells": [
  {
   "cell_type": "markdown",
   "metadata": {},
   "source": [
    "# Linear Regression Model"
   ]
  },
  {
   "cell_type": "markdown",
   "metadata": {},
   "source": [
    "***import library***"
   ]
  },
  {
   "cell_type": "code",
   "execution_count": 1,
   "metadata": {},
   "outputs": [],
   "source": [
    "import numpy as np\n",
    "import pandas as pd\n",
    "\n",
    "\n",
    "from sklearn.preprocessing import MinMaxScaler\n",
    "import matplotlib.pyplot as plt\n",
    "%matplotlib inline\n",
    "\n",
    "#import seaborn as sns\n",
    "\n",
    "from sklearn.metrics import r2_score\n",
    "\n",
    "import os\n",
    "import datetime\n",
    "from math import sqrt\n",
    "\n",
    "import math\n",
    "from tensorflow.keras import backend\n",
    "from tensorflow.keras.callbacks import EarlyStopping, ModelCheckpoint, TensorBoard, ReduceLROnPlateau\n",
    "import tensorflow as tf\n",
    "from tensorflow.keras.optimizers import Adam\n",
    "from tensorflow.keras.models import Sequential\n",
    "from tensorflow.keras.layers import LSTM, Dropout, Dense, SimpleRNN\n",
    "\n",
    "from sklearn.preprocessing import LabelEncoder\n",
    "from keras.utils import to_categorical\n",
    "from tensorflow.keras.layers import Conv1D, Conv2D\n",
    "from tensorflow.keras.layers import MaxPooling1D, Dropout, Flatten\n",
    "from tensorflow.keras import  regularizers\n",
    "\n",
    "from sklearn.model_selection import train_test_split\n",
    "from tensorflow.keras.layers import Dense, LSTM, Flatten, Input, Reshape\n",
    "from tensorflow.keras.models import Sequential, Model\n",
    "from tensorflow.keras.layers import Input, Dense, Lambda, Flatten\n",
    "import tensorflow.keras.backend as K\n",
    "from sklearn.model_selection import TimeSeriesSplit\n",
    "\n",
    "from sklearn.metrics import mean_squared_error\n",
    "\n",
    "\n",
    "#from tensorflow.keras.preprocessing.sequence import TimeseriesGenerator\n",
    "#from tensorflow.python.keras.preprocessing.sequence import TimeseriesGenerator\n",
    "\n",
    "pd.set_option('max_columns', 50)"
   ]
  },
  {
   "cell_type": "markdown",
   "metadata": {},
   "source": [
    "***import data***"
   ]
  },
  {
   "cell_type": "code",
   "execution_count": 2,
   "metadata": {},
   "outputs": [],
   "source": [
    "\n",
    "#import data\n",
    "data = pd.read_csv(\"../H264 REVISED/H264-data/nbc_news_G16B1_QP10.csv\",\n",
    "                   names=['decoded_frame','arrival_time', 'video_frame', \n",
    "                                         'frame_size', 'x', 'y', 'z'])\n"
   ]
  },
  {
   "cell_type": "code",
   "execution_count": 3,
   "metadata": {},
   "outputs": [
    {
     "data": {
      "text/html": [
       "<div>\n",
       "<style scoped>\n",
       "    .dataframe tbody tr th:only-of-type {\n",
       "        vertical-align: middle;\n",
       "    }\n",
       "\n",
       "    .dataframe tbody tr th {\n",
       "        vertical-align: top;\n",
       "    }\n",
       "\n",
       "    .dataframe thead th {\n",
       "        text-align: right;\n",
       "    }\n",
       "</style>\n",
       "<table border=\"1\" class=\"dataframe\">\n",
       "  <thead>\n",
       "    <tr style=\"text-align: right;\">\n",
       "      <th></th>\n",
       "      <th>decoded_frame</th>\n",
       "      <th>arrival_time</th>\n",
       "      <th>video_frame</th>\n",
       "      <th>frame_size</th>\n",
       "      <th>x</th>\n",
       "      <th>y</th>\n",
       "      <th>z</th>\n",
       "    </tr>\n",
       "  </thead>\n",
       "  <tbody>\n",
       "    <tr>\n",
       "      <th>0</th>\n",
       "      <td>0</td>\n",
       "      <td>0.00000</td>\n",
       "      <td>I</td>\n",
       "      <td>277192</td>\n",
       "      <td>52.340</td>\n",
       "      <td>52.340</td>\n",
       "      <td>52.568</td>\n",
       "    </tr>\n",
       "    <tr>\n",
       "      <th>1</th>\n",
       "      <td>2</td>\n",
       "      <td>66.66667</td>\n",
       "      <td>P</td>\n",
       "      <td>257984</td>\n",
       "      <td>50.030</td>\n",
       "      <td>50.897</td>\n",
       "      <td>51.285</td>\n",
       "    </tr>\n",
       "    <tr>\n",
       "      <th>2</th>\n",
       "      <td>1</td>\n",
       "      <td>33.33333</td>\n",
       "      <td>B</td>\n",
       "      <td>182048</td>\n",
       "      <td>47.967</td>\n",
       "      <td>49.606</td>\n",
       "      <td>50.288</td>\n",
       "    </tr>\n",
       "    <tr>\n",
       "      <th>3</th>\n",
       "      <td>4</td>\n",
       "      <td>133.33333</td>\n",
       "      <td>P</td>\n",
       "      <td>257248</td>\n",
       "      <td>50.063</td>\n",
       "      <td>50.856</td>\n",
       "      <td>51.186</td>\n",
       "    </tr>\n",
       "    <tr>\n",
       "      <th>4</th>\n",
       "      <td>3</td>\n",
       "      <td>100.00000</td>\n",
       "      <td>B</td>\n",
       "      <td>180624</td>\n",
       "      <td>48.031</td>\n",
       "      <td>49.683</td>\n",
       "      <td>50.401</td>\n",
       "    </tr>\n",
       "  </tbody>\n",
       "</table>\n",
       "</div>"
      ],
      "text/plain": [
       "   decoded_frame  arrival_time video_frame  frame_size       x       y       z\n",
       "0              0       0.00000           I      277192  52.340  52.340  52.568\n",
       "1              2      66.66667           P      257984  50.030  50.897  51.285\n",
       "2              1      33.33333           B      182048  47.967  49.606  50.288\n",
       "3              4     133.33333           P      257248  50.063  50.856  51.186\n",
       "4              3     100.00000           B      180624  48.031  49.683  50.401"
      ]
     },
     "execution_count": 3,
     "metadata": {},
     "output_type": "execute_result"
    }
   ],
   "source": [
    "data.head()"
   ]
  },
  {
   "cell_type": "code",
   "execution_count": 4,
   "metadata": {},
   "outputs": [],
   "source": [
    "data.dropna(0,inplace= True)"
   ]
  },
  {
   "cell_type": "code",
   "execution_count": 5,
   "metadata": {},
   "outputs": [],
   "source": [
    "#drop decoded frame column\n",
    "data.drop(('decoded_frame'), axis=1, inplace=True)\n",
    "\n",
    "#data.drop(('x'), axis=1, inplace=True)\n",
    "#data.drop(('y'), axis=1, inplace=True)\n",
    "#data.drop(('z'), axis=1, inplace=True)"
   ]
  },
  {
   "cell_type": "code",
   "execution_count": 6,
   "metadata": {},
   "outputs": [
    {
     "name": "stdout",
     "output_type": "stream",
     "text": [
      "['B', 'I', 'P']\n"
     ]
    }
   ],
   "source": [
    "# Label encoding of species column numerically\n",
    "le = LabelEncoder()\n",
    "le.fit(data['video_frame'])\n",
    "print(list(le.classes_))\n",
    "data['video_frame'] = le.transform(data['video_frame'])"
   ]
  },
  {
   "cell_type": "code",
   "execution_count": 7,
   "metadata": {},
   "outputs": [
    {
     "data": {
      "text/html": [
       "<div>\n",
       "<style scoped>\n",
       "    .dataframe tbody tr th:only-of-type {\n",
       "        vertical-align: middle;\n",
       "    }\n",
       "\n",
       "    .dataframe tbody tr th {\n",
       "        vertical-align: top;\n",
       "    }\n",
       "\n",
       "    .dataframe thead th {\n",
       "        text-align: right;\n",
       "    }\n",
       "</style>\n",
       "<table border=\"1\" class=\"dataframe\">\n",
       "  <thead>\n",
       "    <tr style=\"text-align: right;\">\n",
       "      <th></th>\n",
       "      <th>arrival_time</th>\n",
       "      <th>video_frame</th>\n",
       "      <th>frame_size</th>\n",
       "      <th>x</th>\n",
       "      <th>y</th>\n",
       "      <th>z</th>\n",
       "    </tr>\n",
       "  </thead>\n",
       "  <tbody>\n",
       "    <tr>\n",
       "      <th>0</th>\n",
       "      <td>0.00000</td>\n",
       "      <td>1</td>\n",
       "      <td>277192</td>\n",
       "      <td>52.340</td>\n",
       "      <td>52.340</td>\n",
       "      <td>52.568</td>\n",
       "    </tr>\n",
       "    <tr>\n",
       "      <th>1</th>\n",
       "      <td>66.66667</td>\n",
       "      <td>2</td>\n",
       "      <td>257984</td>\n",
       "      <td>50.030</td>\n",
       "      <td>50.897</td>\n",
       "      <td>51.285</td>\n",
       "    </tr>\n",
       "    <tr>\n",
       "      <th>2</th>\n",
       "      <td>33.33333</td>\n",
       "      <td>0</td>\n",
       "      <td>182048</td>\n",
       "      <td>47.967</td>\n",
       "      <td>49.606</td>\n",
       "      <td>50.288</td>\n",
       "    </tr>\n",
       "    <tr>\n",
       "      <th>3</th>\n",
       "      <td>133.33333</td>\n",
       "      <td>2</td>\n",
       "      <td>257248</td>\n",
       "      <td>50.063</td>\n",
       "      <td>50.856</td>\n",
       "      <td>51.186</td>\n",
       "    </tr>\n",
       "    <tr>\n",
       "      <th>4</th>\n",
       "      <td>100.00000</td>\n",
       "      <td>0</td>\n",
       "      <td>180624</td>\n",
       "      <td>48.031</td>\n",
       "      <td>49.683</td>\n",
       "      <td>50.401</td>\n",
       "    </tr>\n",
       "  </tbody>\n",
       "</table>\n",
       "</div>"
      ],
      "text/plain": [
       "   arrival_time  video_frame  frame_size       x       y       z\n",
       "0       0.00000            1      277192  52.340  52.340  52.568\n",
       "1      66.66667            2      257984  50.030  50.897  51.285\n",
       "2      33.33333            0      182048  47.967  49.606  50.288\n",
       "3     133.33333            2      257248  50.063  50.856  51.186\n",
       "4     100.00000            0      180624  48.031  49.683  50.401"
      ]
     },
     "execution_count": 7,
     "metadata": {},
     "output_type": "execute_result"
    }
   ],
   "source": [
    "data.head()"
   ]
  },
  {
   "cell_type": "code",
   "execution_count": 8,
   "metadata": {},
   "outputs": [
    {
     "name": "stdout",
     "output_type": "stream",
     "text": [
      "0    24761\n",
      "2    21666\n",
      "1     3096\n",
      "Name: video_frame, dtype: int64\n"
     ]
    }
   ],
   "source": [
    "print(data.video_frame.value_counts())"
   ]
  },
  {
   "cell_type": "code",
   "execution_count": 9,
   "metadata": {},
   "outputs": [
    {
     "data": {
      "text/html": [
       "<div>\n",
       "<style scoped>\n",
       "    .dataframe tbody tr th:only-of-type {\n",
       "        vertical-align: middle;\n",
       "    }\n",
       "\n",
       "    .dataframe tbody tr th {\n",
       "        vertical-align: top;\n",
       "    }\n",
       "\n",
       "    .dataframe thead th {\n",
       "        text-align: right;\n",
       "    }\n",
       "</style>\n",
       "<table border=\"1\" class=\"dataframe\">\n",
       "  <thead>\n",
       "    <tr style=\"text-align: right;\">\n",
       "      <th></th>\n",
       "      <th>arrival_time</th>\n",
       "      <th>video_frame</th>\n",
       "      <th>frame_size</th>\n",
       "      <th>x</th>\n",
       "      <th>y</th>\n",
       "      <th>z</th>\n",
       "    </tr>\n",
       "  </thead>\n",
       "  <tbody>\n",
       "    <tr>\n",
       "      <th>0</th>\n",
       "      <td>0.00000</td>\n",
       "      <td>1</td>\n",
       "      <td>277192</td>\n",
       "      <td>52.340</td>\n",
       "      <td>52.340</td>\n",
       "      <td>52.568</td>\n",
       "    </tr>\n",
       "    <tr>\n",
       "      <th>2</th>\n",
       "      <td>33.33333</td>\n",
       "      <td>0</td>\n",
       "      <td>182048</td>\n",
       "      <td>47.967</td>\n",
       "      <td>49.606</td>\n",
       "      <td>50.288</td>\n",
       "    </tr>\n",
       "    <tr>\n",
       "      <th>1</th>\n",
       "      <td>66.66667</td>\n",
       "      <td>2</td>\n",
       "      <td>257984</td>\n",
       "      <td>50.030</td>\n",
       "      <td>50.897</td>\n",
       "      <td>51.285</td>\n",
       "    </tr>\n",
       "    <tr>\n",
       "      <th>4</th>\n",
       "      <td>100.00000</td>\n",
       "      <td>0</td>\n",
       "      <td>180624</td>\n",
       "      <td>48.031</td>\n",
       "      <td>49.683</td>\n",
       "      <td>50.401</td>\n",
       "    </tr>\n",
       "    <tr>\n",
       "      <th>3</th>\n",
       "      <td>133.33333</td>\n",
       "      <td>2</td>\n",
       "      <td>257248</td>\n",
       "      <td>50.063</td>\n",
       "      <td>50.856</td>\n",
       "      <td>51.186</td>\n",
       "    </tr>\n",
       "  </tbody>\n",
       "</table>\n",
       "</div>"
      ],
      "text/plain": [
       "   arrival_time  video_frame  frame_size       x       y       z\n",
       "0       0.00000            1      277192  52.340  52.340  52.568\n",
       "2      33.33333            0      182048  47.967  49.606  50.288\n",
       "1      66.66667            2      257984  50.030  50.897  51.285\n",
       "4     100.00000            0      180624  48.031  49.683  50.401\n",
       "3     133.33333            2      257248  50.063  50.856  51.186"
      ]
     },
     "execution_count": 9,
     "metadata": {},
     "output_type": "execute_result"
    }
   ],
   "source": [
    "data.sort_values('arrival_time').head()"
   ]
  },
  {
   "cell_type": "code",
   "execution_count": 10,
   "metadata": {},
   "outputs": [],
   "source": [
    "data.sort_values('arrival_time', inplace=True)"
   ]
  },
  {
   "cell_type": "code",
   "execution_count": 11,
   "metadata": {},
   "outputs": [
    {
     "name": "stdout",
     "output_type": "stream",
     "text": [
      "total number of rows : 49523\n",
      "number of rows missing traffic: 0\n",
      "   arrival_time  video_frame  frame_size       x       y       z\n",
      "0       0.00000            1      277192  52.340  52.340  52.568\n",
      "2      33.33333            0      182048  47.967  49.606  50.288\n",
      "1      66.66667            2      257984  50.030  50.897  51.285\n",
      "4     100.00000            0      180624  48.031  49.683  50.401\n",
      "3     133.33333            2      257248  50.063  50.856  51.186\n",
      "total number of rows : 49523\n",
      "number of rows missing traffic: 0\n",
      "   arrival_time  video_frame  frame_size       x       y       z\n",
      "0           NaN          1.0      277192  52.340  52.340  52.568\n",
      "2      33.33333          1.5      182048  47.967  49.606  50.288\n",
      "1      66.66667          2.0      257984  50.030  50.897  51.285\n",
      "4     100.00000          2.0      180624  48.031  49.683  50.401\n",
      "3     133.33333          2.0      257248  50.063  50.856  51.186\n"
     ]
    }
   ],
   "source": [
    "#Check for missing values\n",
    "print(\"total number of rows : {0}\".format(len(data)))\n",
    "print(\"number of rows missing traffic: {0}\".format(len(data.loc[data['frame_size'] == 0])))\n",
    "print(data.head())\n",
    "\n",
    "#Fill missing values\n",
    "data = data.replace(0, np.nan) # first replace 0 values with nan values, otherwise fill function doesnot work\n",
    "#daily_data.fillna(method= 'bfill', inplace=True) # fill using backward fill pandas function\n",
    "data.interpolate(method= 'linear', inplace=True)\n",
    "\n",
    "\n",
    "#Check how many other missing(zero) values\n",
    "print(\"total number of rows : {0}\".format(len(data)))\n",
    "print(\"number of rows missing traffic: {0}\".format(len(data.loc[data['frame_size'] == 0])))\n",
    "print(data.head())"
   ]
  },
  {
   "cell_type": "code",
   "execution_count": null,
   "metadata": {},
   "outputs": [],
   "source": []
  },
  {
   "cell_type": "code",
   "execution_count": 12,
   "metadata": {},
   "outputs": [],
   "source": [
    "for obs in range(1,10):\n",
    "    data[\"T_\" + str(obs)] = data.frame_size.shift(obs)"
   ]
  },
  {
   "cell_type": "code",
   "execution_count": 13,
   "metadata": {},
   "outputs": [
    {
     "data": {
      "text/html": [
       "<div>\n",
       "<style scoped>\n",
       "    .dataframe tbody tr th:only-of-type {\n",
       "        vertical-align: middle;\n",
       "    }\n",
       "\n",
       "    .dataframe tbody tr th {\n",
       "        vertical-align: top;\n",
       "    }\n",
       "\n",
       "    .dataframe thead th {\n",
       "        text-align: right;\n",
       "    }\n",
       "</style>\n",
       "<table border=\"1\" class=\"dataframe\">\n",
       "  <thead>\n",
       "    <tr style=\"text-align: right;\">\n",
       "      <th></th>\n",
       "      <th>arrival_time</th>\n",
       "      <th>video_frame</th>\n",
       "      <th>frame_size</th>\n",
       "      <th>x</th>\n",
       "      <th>y</th>\n",
       "      <th>z</th>\n",
       "      <th>T_1</th>\n",
       "      <th>T_2</th>\n",
       "      <th>T_3</th>\n",
       "      <th>T_4</th>\n",
       "      <th>T_5</th>\n",
       "      <th>T_6</th>\n",
       "      <th>T_7</th>\n",
       "      <th>T_8</th>\n",
       "      <th>T_9</th>\n",
       "    </tr>\n",
       "  </thead>\n",
       "  <tbody>\n",
       "    <tr>\n",
       "      <th>0</th>\n",
       "      <td>0.00000</td>\n",
       "      <td>1.0</td>\n",
       "      <td>277192</td>\n",
       "      <td>52.340</td>\n",
       "      <td>52.340</td>\n",
       "      <td>52.568</td>\n",
       "      <td>0.0</td>\n",
       "      <td>0.0</td>\n",
       "      <td>0.0</td>\n",
       "      <td>0.0</td>\n",
       "      <td>0.0</td>\n",
       "      <td>0.0</td>\n",
       "      <td>0.0</td>\n",
       "      <td>0.0</td>\n",
       "      <td>0.0</td>\n",
       "    </tr>\n",
       "    <tr>\n",
       "      <th>2</th>\n",
       "      <td>33.33333</td>\n",
       "      <td>1.5</td>\n",
       "      <td>182048</td>\n",
       "      <td>47.967</td>\n",
       "      <td>49.606</td>\n",
       "      <td>50.288</td>\n",
       "      <td>277192.0</td>\n",
       "      <td>0.0</td>\n",
       "      <td>0.0</td>\n",
       "      <td>0.0</td>\n",
       "      <td>0.0</td>\n",
       "      <td>0.0</td>\n",
       "      <td>0.0</td>\n",
       "      <td>0.0</td>\n",
       "      <td>0.0</td>\n",
       "    </tr>\n",
       "    <tr>\n",
       "      <th>1</th>\n",
       "      <td>66.66667</td>\n",
       "      <td>2.0</td>\n",
       "      <td>257984</td>\n",
       "      <td>50.030</td>\n",
       "      <td>50.897</td>\n",
       "      <td>51.285</td>\n",
       "      <td>182048.0</td>\n",
       "      <td>277192.0</td>\n",
       "      <td>0.0</td>\n",
       "      <td>0.0</td>\n",
       "      <td>0.0</td>\n",
       "      <td>0.0</td>\n",
       "      <td>0.0</td>\n",
       "      <td>0.0</td>\n",
       "      <td>0.0</td>\n",
       "    </tr>\n",
       "    <tr>\n",
       "      <th>4</th>\n",
       "      <td>100.00000</td>\n",
       "      <td>2.0</td>\n",
       "      <td>180624</td>\n",
       "      <td>48.031</td>\n",
       "      <td>49.683</td>\n",
       "      <td>50.401</td>\n",
       "      <td>257984.0</td>\n",
       "      <td>182048.0</td>\n",
       "      <td>277192.0</td>\n",
       "      <td>0.0</td>\n",
       "      <td>0.0</td>\n",
       "      <td>0.0</td>\n",
       "      <td>0.0</td>\n",
       "      <td>0.0</td>\n",
       "      <td>0.0</td>\n",
       "    </tr>\n",
       "    <tr>\n",
       "      <th>3</th>\n",
       "      <td>133.33333</td>\n",
       "      <td>2.0</td>\n",
       "      <td>257248</td>\n",
       "      <td>50.063</td>\n",
       "      <td>50.856</td>\n",
       "      <td>51.186</td>\n",
       "      <td>180624.0</td>\n",
       "      <td>257984.0</td>\n",
       "      <td>182048.0</td>\n",
       "      <td>277192.0</td>\n",
       "      <td>0.0</td>\n",
       "      <td>0.0</td>\n",
       "      <td>0.0</td>\n",
       "      <td>0.0</td>\n",
       "      <td>0.0</td>\n",
       "    </tr>\n",
       "    <tr>\n",
       "      <th>6</th>\n",
       "      <td>166.66667</td>\n",
       "      <td>2.0</td>\n",
       "      <td>180336</td>\n",
       "      <td>48.037</td>\n",
       "      <td>49.613</td>\n",
       "      <td>50.326</td>\n",
       "      <td>257248.0</td>\n",
       "      <td>180624.0</td>\n",
       "      <td>257984.0</td>\n",
       "      <td>182048.0</td>\n",
       "      <td>277192.0</td>\n",
       "      <td>0.0</td>\n",
       "      <td>0.0</td>\n",
       "      <td>0.0</td>\n",
       "      <td>0.0</td>\n",
       "    </tr>\n",
       "    <tr>\n",
       "      <th>5</th>\n",
       "      <td>200.00000</td>\n",
       "      <td>2.0</td>\n",
       "      <td>253616</td>\n",
       "      <td>50.037</td>\n",
       "      <td>50.830</td>\n",
       "      <td>51.145</td>\n",
       "      <td>180336.0</td>\n",
       "      <td>257248.0</td>\n",
       "      <td>180624.0</td>\n",
       "      <td>257984.0</td>\n",
       "      <td>182048.0</td>\n",
       "      <td>277192.0</td>\n",
       "      <td>0.0</td>\n",
       "      <td>0.0</td>\n",
       "      <td>0.0</td>\n",
       "    </tr>\n",
       "    <tr>\n",
       "      <th>8</th>\n",
       "      <td>233.33333</td>\n",
       "      <td>2.0</td>\n",
       "      <td>180648</td>\n",
       "      <td>47.999</td>\n",
       "      <td>49.579</td>\n",
       "      <td>50.294</td>\n",
       "      <td>253616.0</td>\n",
       "      <td>180336.0</td>\n",
       "      <td>257248.0</td>\n",
       "      <td>180624.0</td>\n",
       "      <td>257984.0</td>\n",
       "      <td>182048.0</td>\n",
       "      <td>277192.0</td>\n",
       "      <td>0.0</td>\n",
       "      <td>0.0</td>\n",
       "    </tr>\n",
       "    <tr>\n",
       "      <th>7</th>\n",
       "      <td>266.66667</td>\n",
       "      <td>2.0</td>\n",
       "      <td>251768</td>\n",
       "      <td>50.010</td>\n",
       "      <td>50.748</td>\n",
       "      <td>51.168</td>\n",
       "      <td>180648.0</td>\n",
       "      <td>253616.0</td>\n",
       "      <td>180336.0</td>\n",
       "      <td>257248.0</td>\n",
       "      <td>180624.0</td>\n",
       "      <td>257984.0</td>\n",
       "      <td>182048.0</td>\n",
       "      <td>277192.0</td>\n",
       "      <td>0.0</td>\n",
       "    </tr>\n",
       "    <tr>\n",
       "      <th>10</th>\n",
       "      <td>300.00000</td>\n",
       "      <td>2.0</td>\n",
       "      <td>182696</td>\n",
       "      <td>48.050</td>\n",
       "      <td>49.518</td>\n",
       "      <td>50.240</td>\n",
       "      <td>251768.0</td>\n",
       "      <td>180648.0</td>\n",
       "      <td>253616.0</td>\n",
       "      <td>180336.0</td>\n",
       "      <td>257248.0</td>\n",
       "      <td>180624.0</td>\n",
       "      <td>257984.0</td>\n",
       "      <td>182048.0</td>\n",
       "      <td>277192.0</td>\n",
       "    </tr>\n",
       "  </tbody>\n",
       "</table>\n",
       "</div>"
      ],
      "text/plain": [
       "    arrival_time  video_frame  frame_size       x       y       z       T_1  \\\n",
       "0        0.00000          1.0      277192  52.340  52.340  52.568       0.0   \n",
       "2       33.33333          1.5      182048  47.967  49.606  50.288  277192.0   \n",
       "1       66.66667          2.0      257984  50.030  50.897  51.285  182048.0   \n",
       "4      100.00000          2.0      180624  48.031  49.683  50.401  257984.0   \n",
       "3      133.33333          2.0      257248  50.063  50.856  51.186  180624.0   \n",
       "6      166.66667          2.0      180336  48.037  49.613  50.326  257248.0   \n",
       "5      200.00000          2.0      253616  50.037  50.830  51.145  180336.0   \n",
       "8      233.33333          2.0      180648  47.999  49.579  50.294  253616.0   \n",
       "7      266.66667          2.0      251768  50.010  50.748  51.168  180648.0   \n",
       "10     300.00000          2.0      182696  48.050  49.518  50.240  251768.0   \n",
       "\n",
       "         T_2       T_3       T_4       T_5       T_6       T_7       T_8  \\\n",
       "0        0.0       0.0       0.0       0.0       0.0       0.0       0.0   \n",
       "2        0.0       0.0       0.0       0.0       0.0       0.0       0.0   \n",
       "1   277192.0       0.0       0.0       0.0       0.0       0.0       0.0   \n",
       "4   182048.0  277192.0       0.0       0.0       0.0       0.0       0.0   \n",
       "3   257984.0  182048.0  277192.0       0.0       0.0       0.0       0.0   \n",
       "6   180624.0  257984.0  182048.0  277192.0       0.0       0.0       0.0   \n",
       "5   257248.0  180624.0  257984.0  182048.0  277192.0       0.0       0.0   \n",
       "8   180336.0  257248.0  180624.0  257984.0  182048.0  277192.0       0.0   \n",
       "7   253616.0  180336.0  257248.0  180624.0  257984.0  182048.0  277192.0   \n",
       "10  180648.0  253616.0  180336.0  257248.0  180624.0  257984.0  182048.0   \n",
       "\n",
       "         T_9  \n",
       "0        0.0  \n",
       "2        0.0  \n",
       "1        0.0  \n",
       "4        0.0  \n",
       "3        0.0  \n",
       "6        0.0  \n",
       "5        0.0  \n",
       "8        0.0  \n",
       "7        0.0  \n",
       "10  277192.0  "
      ]
     },
     "execution_count": 13,
     "metadata": {},
     "output_type": "execute_result"
    }
   ],
   "source": [
    "data.fillna(0.00,inplace=True)\n",
    "data.head(10)"
   ]
  },
  {
   "cell_type": "code",
   "execution_count": 14,
   "metadata": {},
   "outputs": [
    {
     "data": {
      "text/html": [
       "<div>\n",
       "<style scoped>\n",
       "    .dataframe tbody tr th:only-of-type {\n",
       "        vertical-align: middle;\n",
       "    }\n",
       "\n",
       "    .dataframe tbody tr th {\n",
       "        vertical-align: top;\n",
       "    }\n",
       "\n",
       "    .dataframe thead th {\n",
       "        text-align: right;\n",
       "    }\n",
       "</style>\n",
       "<table border=\"1\" class=\"dataframe\">\n",
       "  <thead>\n",
       "    <tr style=\"text-align: right;\">\n",
       "      <th></th>\n",
       "      <th>T_1</th>\n",
       "      <th>T_2</th>\n",
       "      <th>T_3</th>\n",
       "      <th>T_4</th>\n",
       "      <th>T_5</th>\n",
       "      <th>T_6</th>\n",
       "      <th>T_7</th>\n",
       "      <th>T_8</th>\n",
       "      <th>T_9</th>\n",
       "    </tr>\n",
       "    <tr>\n",
       "      <th>arrival_time</th>\n",
       "      <th></th>\n",
       "      <th></th>\n",
       "      <th></th>\n",
       "      <th></th>\n",
       "      <th></th>\n",
       "      <th></th>\n",
       "      <th></th>\n",
       "      <th></th>\n",
       "      <th></th>\n",
       "    </tr>\n",
       "  </thead>\n",
       "  <tbody>\n",
       "    <tr>\n",
       "      <th>0.00000</th>\n",
       "      <td>0.0</td>\n",
       "      <td>0.0</td>\n",
       "      <td>0.0</td>\n",
       "      <td>0.0</td>\n",
       "      <td>0.0</td>\n",
       "      <td>0.0</td>\n",
       "      <td>0.0</td>\n",
       "      <td>0.0</td>\n",
       "      <td>0.0</td>\n",
       "    </tr>\n",
       "    <tr>\n",
       "      <th>33.33333</th>\n",
       "      <td>277192.0</td>\n",
       "      <td>0.0</td>\n",
       "      <td>0.0</td>\n",
       "      <td>0.0</td>\n",
       "      <td>0.0</td>\n",
       "      <td>0.0</td>\n",
       "      <td>0.0</td>\n",
       "      <td>0.0</td>\n",
       "      <td>0.0</td>\n",
       "    </tr>\n",
       "    <tr>\n",
       "      <th>66.66667</th>\n",
       "      <td>182048.0</td>\n",
       "      <td>277192.0</td>\n",
       "      <td>0.0</td>\n",
       "      <td>0.0</td>\n",
       "      <td>0.0</td>\n",
       "      <td>0.0</td>\n",
       "      <td>0.0</td>\n",
       "      <td>0.0</td>\n",
       "      <td>0.0</td>\n",
       "    </tr>\n",
       "    <tr>\n",
       "      <th>100.00000</th>\n",
       "      <td>257984.0</td>\n",
       "      <td>182048.0</td>\n",
       "      <td>277192.0</td>\n",
       "      <td>0.0</td>\n",
       "      <td>0.0</td>\n",
       "      <td>0.0</td>\n",
       "      <td>0.0</td>\n",
       "      <td>0.0</td>\n",
       "      <td>0.0</td>\n",
       "    </tr>\n",
       "    <tr>\n",
       "      <th>133.33333</th>\n",
       "      <td>180624.0</td>\n",
       "      <td>257984.0</td>\n",
       "      <td>182048.0</td>\n",
       "      <td>277192.0</td>\n",
       "      <td>0.0</td>\n",
       "      <td>0.0</td>\n",
       "      <td>0.0</td>\n",
       "      <td>0.0</td>\n",
       "      <td>0.0</td>\n",
       "    </tr>\n",
       "  </tbody>\n",
       "</table>\n",
       "</div>"
      ],
      "text/plain": [
       "                   T_1       T_2       T_3       T_4  T_5  T_6  T_7  T_8  T_9\n",
       "arrival_time                                                                 \n",
       "0.00000            0.0       0.0       0.0       0.0  0.0  0.0  0.0  0.0  0.0\n",
       "33.33333      277192.0       0.0       0.0       0.0  0.0  0.0  0.0  0.0  0.0\n",
       "66.66667      182048.0  277192.0       0.0       0.0  0.0  0.0  0.0  0.0  0.0\n",
       "100.00000     257984.0  182048.0  277192.0       0.0  0.0  0.0  0.0  0.0  0.0\n",
       "133.33333     180624.0  257984.0  182048.0  277192.0  0.0  0.0  0.0  0.0  0.0"
      ]
     },
     "execution_count": 14,
     "metadata": {},
     "output_type": "execute_result"
    }
   ],
   "source": [
    "predictors = ['T_1','T_2', 'T_3', 'T_4', 'T_5','T_6', 'T_7', 'T_8', 'T_9']\n",
    "\n",
    "\n",
    "X = data[predictors]\n",
    "X.index = data['arrival_time']\n",
    "X.head()"
   ]
  },
  {
   "cell_type": "code",
   "execution_count": 15,
   "metadata": {},
   "outputs": [],
   "source": [
    "target_name = ['frame_size']\n",
    "\n",
    "#X = data.drop('frame_size', axis=1)\n",
    "y = data[target_name]"
   ]
  },
  {
   "cell_type": "code",
   "execution_count": 16,
   "metadata": {},
   "outputs": [
    {
     "data": {
      "text/plain": [
       "(49523, 9)"
      ]
     },
     "execution_count": 16,
     "metadata": {},
     "output_type": "execute_result"
    }
   ],
   "source": [
    "X.shape"
   ]
  },
  {
   "cell_type": "code",
   "execution_count": 17,
   "metadata": {},
   "outputs": [
    {
     "data": {
      "text/plain": [
       "(49523, 1)"
      ]
     },
     "execution_count": 17,
     "metadata": {},
     "output_type": "execute_result"
    }
   ],
   "source": [
    "y.shape"
   ]
  },
  {
   "cell_type": "code",
   "execution_count": 18,
   "metadata": {},
   "outputs": [],
   "source": [
    "from sklearn.model_selection import train_test_split\n",
    "\n",
    "test_size = 0.2\n",
    "seed = 42\n",
    "\n",
    "X_train, X_test, y_train, y_test = train_test_split(X, y, test_size=test_size, random_state=seed)"
   ]
  },
  {
   "cell_type": "code",
   "execution_count": 19,
   "metadata": {},
   "outputs": [
    {
     "name": "stdout",
     "output_type": "stream",
     "text": [
      "(39618, 9) (39618, 1) (9905, 9) (9905, 1)\n"
     ]
    }
   ],
   "source": [
    "print(X_train.shape, y_train.shape, X_test.shape, y_test.shape)"
   ]
  },
  {
   "cell_type": "code",
   "execution_count": 20,
   "metadata": {},
   "outputs": [
    {
     "name": "stdout",
     "output_type": "stream",
     "text": [
      "Slope : [ 0.16090035  0.32090067 -0.01763529  0.24336099 -0.04651424  0.18773532\n",
      " -0.0722709   0.1776705  -0.05092606]\n",
      "Intercept:  [22533.90520074]\n"
     ]
    }
   ],
   "source": [
    "# Model\n",
    "\n",
    "from sklearn.linear_model import LinearRegression\n",
    "# 2. Create an instance of the estimator\n",
    "linear_regression = LinearRegression()\n",
    "# 3. Use the trainning data to train the estimator\n",
    "linear_regression.fit(X_train, y_train)\n",
    "\n",
    "#Coefficient\n",
    "coefficients = linear_regression.coef_\n",
    "#intercept\n",
    "intercept = linear_regression.intercept_\n",
    "\n",
    "#Slope\n",
    "print(\"Slope :\", coefficients[0])\n",
    "\n",
    "#Intercept\n",
    "print(\"Intercept: \", intercept)"
   ]
  },
  {
   "cell_type": "code",
   "execution_count": 21,
   "metadata": {},
   "outputs": [],
   "source": [
    "\n",
    "models = pd.DataFrame(index=['RPE', 'MAE', 'MAPE'], \n",
    "                      columns=[ 'seq2seq', 'LSTM', 'CNN'])"
   ]
  },
  {
   "cell_type": "code",
   "execution_count": 22,
   "metadata": {},
   "outputs": [],
   "source": [
    "#Prediction\n",
    "\n",
    "from sklearn.metrics import mean_absolute_error\n",
    "from sklearn.metrics import mean_absolute_percentage_error\n",
    "\n",
    "y_pred=linear_regression.predict(X_test)\n",
    "\n",
    "\n",
    "def relative_percent_error(y_true, y_pred):\n",
    "    y_true, y_pred = np.array(y_true), np.array(y_pred)\n",
    "    return np.sum(np.abs(y_true - y_pred))/np.sum(abs(y_true)) * 100\n",
    "    \n",
    "def mean_absolute_error(y_true, y_pred): \n",
    "    y_true, y_pred = np.array(y_true), np.array(y_pred)\n",
    "    return np.mean(np.abs(y_true - y_pred)) * 100\n",
    "\n",
    "\n",
    "def mean_absolute_percentage_error(y_true, y_pred):\n",
    "    y_true, y_pred = np.array(y_true), np.array(y_pred)\n",
    "    return np.mean(np.abs((y_true - y_pred) / y_true)) * 100\n",
    "    \n",
    "\n",
    "\n",
    "#models.loc['RPE','Linear Regression'] = round(relative_percent_error(y_test, y_pred), 2)\n",
    "#models.loc['MAE','Linear Regression'] = mean_absolute_error(y_test, y_pred)\n",
    "#models.loc['MAPE','Linear Regression'] = mean_absolute_percentage_error(y_test, y_pred)\n"
   ]
  },
  {
   "cell_type": "code",
   "execution_count": 23,
   "metadata": {},
   "outputs": [
    {
     "data": {
      "image/png": "[encoded data removed]",
      "text/plain": [
       "<Figure size 360x216 with 1 Axes>"
      ]
     },
     "metadata": {
      "needs_background": "light"
     },
     "output_type": "display_data"
    }
   ],
   "source": [
    "fig, ax = plt.subplots(figsize=(5, 3))\n",
    "ax.scatter(linear_regression.predict(X_test), y_test, s=4)\n",
    "ax.plot(y_test, y_test, color='red')\n",
    "ax.set_title('Linear regreesion')\n",
    "ax.set_xlabel('Predicted traffic size')\n",
    "ax.set_ylabel('Observed traffic size');"
   ]
  },
  {
   "cell_type": "code",
   "execution_count": 24,
   "metadata": {},
   "outputs": [
    {
     "name": "stdout",
     "output_type": "stream",
     "text": [
      "     seq2seq LSTM  CNN\n",
      "RPE      NaN  NaN  NaN\n",
      "MAE      NaN  NaN  NaN\n",
      "MAPE     NaN  NaN  NaN\n"
     ]
    }
   ],
   "source": [
    "print(models)"
   ]
  },
  {
   "cell_type": "code",
   "execution_count": null,
   "metadata": {},
   "outputs": [],
   "source": []
  },
  {
   "cell_type": "code",
   "execution_count": null,
   "metadata": {},
   "outputs": [],
   "source": []
  },
  {
   "cell_type": "code",
   "execution_count": null,
   "metadata": {},
   "outputs": [],
   "source": []
  },
  {
   "cell_type": "markdown",
   "metadata": {},
   "source": [
    "# seq2seq2 Model"
   ]
  },
  {
   "cell_type": "code",
   "execution_count": 25,
   "metadata": {},
   "outputs": [
    {
     "data": {
      "text/html": [
       "<div>\n",
       "<style scoped>\n",
       "    .dataframe tbody tr th:only-of-type {\n",
       "        vertical-align: middle;\n",
       "    }\n",
       "\n",
       "    .dataframe tbody tr th {\n",
       "        vertical-align: top;\n",
       "    }\n",
       "\n",
       "    .dataframe thead th {\n",
       "        text-align: right;\n",
       "    }\n",
       "</style>\n",
       "<table border=\"1\" class=\"dataframe\">\n",
       "  <thead>\n",
       "    <tr style=\"text-align: right;\">\n",
       "      <th></th>\n",
       "      <th>T_1</th>\n",
       "      <th>T_2</th>\n",
       "      <th>T_3</th>\n",
       "      <th>T_4</th>\n",
       "      <th>T_5</th>\n",
       "      <th>T_6</th>\n",
       "      <th>T_7</th>\n",
       "      <th>T_8</th>\n",
       "      <th>T_9</th>\n",
       "    </tr>\n",
       "    <tr>\n",
       "      <th>arrival_time</th>\n",
       "      <th></th>\n",
       "      <th></th>\n",
       "      <th></th>\n",
       "      <th></th>\n",
       "      <th></th>\n",
       "      <th></th>\n",
       "      <th></th>\n",
       "      <th></th>\n",
       "      <th></th>\n",
       "    </tr>\n",
       "  </thead>\n",
       "  <tbody>\n",
       "    <tr>\n",
       "      <th>0.00000</th>\n",
       "      <td>0.0</td>\n",
       "      <td>0.0</td>\n",
       "      <td>0.0</td>\n",
       "      <td>0.0</td>\n",
       "      <td>0.0</td>\n",
       "      <td>0.0</td>\n",
       "      <td>0.0</td>\n",
       "      <td>0.0</td>\n",
       "      <td>0.0</td>\n",
       "    </tr>\n",
       "    <tr>\n",
       "      <th>33.33333</th>\n",
       "      <td>277192.0</td>\n",
       "      <td>0.0</td>\n",
       "      <td>0.0</td>\n",
       "      <td>0.0</td>\n",
       "      <td>0.0</td>\n",
       "      <td>0.0</td>\n",
       "      <td>0.0</td>\n",
       "      <td>0.0</td>\n",
       "      <td>0.0</td>\n",
       "    </tr>\n",
       "    <tr>\n",
       "      <th>66.66667</th>\n",
       "      <td>182048.0</td>\n",
       "      <td>277192.0</td>\n",
       "      <td>0.0</td>\n",
       "      <td>0.0</td>\n",
       "      <td>0.0</td>\n",
       "      <td>0.0</td>\n",
       "      <td>0.0</td>\n",
       "      <td>0.0</td>\n",
       "      <td>0.0</td>\n",
       "    </tr>\n",
       "    <tr>\n",
       "      <th>100.00000</th>\n",
       "      <td>257984.0</td>\n",
       "      <td>182048.0</td>\n",
       "      <td>277192.0</td>\n",
       "      <td>0.0</td>\n",
       "      <td>0.0</td>\n",
       "      <td>0.0</td>\n",
       "      <td>0.0</td>\n",
       "      <td>0.0</td>\n",
       "      <td>0.0</td>\n",
       "    </tr>\n",
       "    <tr>\n",
       "      <th>133.33333</th>\n",
       "      <td>180624.0</td>\n",
       "      <td>257984.0</td>\n",
       "      <td>182048.0</td>\n",
       "      <td>277192.0</td>\n",
       "      <td>0.0</td>\n",
       "      <td>0.0</td>\n",
       "      <td>0.0</td>\n",
       "      <td>0.0</td>\n",
       "      <td>0.0</td>\n",
       "    </tr>\n",
       "  </tbody>\n",
       "</table>\n",
       "</div>"
      ],
      "text/plain": [
       "                   T_1       T_2       T_3       T_4  T_5  T_6  T_7  T_8  T_9\n",
       "arrival_time                                                                 \n",
       "0.00000            0.0       0.0       0.0       0.0  0.0  0.0  0.0  0.0  0.0\n",
       "33.33333      277192.0       0.0       0.0       0.0  0.0  0.0  0.0  0.0  0.0\n",
       "66.66667      182048.0  277192.0       0.0       0.0  0.0  0.0  0.0  0.0  0.0\n",
       "100.00000     257984.0  182048.0  277192.0       0.0  0.0  0.0  0.0  0.0  0.0\n",
       "133.33333     180624.0  257984.0  182048.0  277192.0  0.0  0.0  0.0  0.0  0.0"
      ]
     },
     "execution_count": 25,
     "metadata": {},
     "output_type": "execute_result"
    }
   ],
   "source": [
    "predictors = ['T_1','T_2', 'T_3', 'T_4', 'T_5','T_6', 'T_7', 'T_8', 'T_9']\n",
    "\n",
    "\n",
    "X = data[predictors]\n",
    "X.index = data['arrival_time']\n",
    "X.head()"
   ]
  },
  {
   "cell_type": "code",
   "execution_count": 26,
   "metadata": {},
   "outputs": [],
   "source": [
    "target_name = ['frame_size']\n",
    "\n",
    "#X = data.drop('frame_size', axis=1)\n",
    "y = data[target_name]"
   ]
  },
  {
   "cell_type": "code",
   "execution_count": 27,
   "metadata": {},
   "outputs": [
    {
     "data": {
      "text/plain": [
       "(49523, 9)"
      ]
     },
     "execution_count": 27,
     "metadata": {},
     "output_type": "execute_result"
    }
   ],
   "source": [
    "X.shape"
   ]
  },
  {
   "cell_type": "code",
   "execution_count": 28,
   "metadata": {},
   "outputs": [
    {
     "data": {
      "text/plain": [
       "(49523, 1)"
      ]
     },
     "execution_count": 28,
     "metadata": {},
     "output_type": "execute_result"
    }
   ],
   "source": [
    "y.shape"
   ]
  },
  {
   "cell_type": "code",
   "execution_count": 29,
   "metadata": {},
   "outputs": [],
   "source": [
    "from sklearn.model_selection import train_test_split\n",
    "\n",
    "test_size = 0.2\n",
    "seed = 42\n",
    "\n",
    "X_train, X_test, y_train, y_test = train_test_split(X, y, test_size=test_size, random_state=seed)"
   ]
  },
  {
   "cell_type": "code",
   "execution_count": 30,
   "metadata": {},
   "outputs": [
    {
     "name": "stdout",
     "output_type": "stream",
     "text": [
      "(39618, 9) (39618, 1) (9905, 9) (9905, 1)\n"
     ]
    }
   ],
   "source": [
    "print(X_train.shape, y_train.shape, X_test.shape, y_test.shape)"
   ]
  },
  {
   "cell_type": "code",
   "execution_count": 31,
   "metadata": {},
   "outputs": [
    {
     "name": "stdout",
     "output_type": "stream",
     "text": [
      "(39618, 9) (39618, 1)\n",
      "(9905, 9) (9905, 1)\n"
     ]
    }
   ],
   "source": [
    "#---NORMALIZE DATA---\n",
    "\n",
    "scaler = MinMaxScaler(feature_range=(-1, 1))\n",
    "\n",
    "X_train = scaler.fit_transform(X_train)\n",
    "X_test = scaler.transform(X_test)\n",
    "\n",
    "y_train = scaler.fit_transform(y_train)\n",
    "y_test = scaler.transform(y_test)\n",
    "\n",
    "print (X_train.shape, y_train.shape)\n",
    "print (X_test.shape, y_test.shape)"
   ]
  },
  {
   "cell_type": "code",
   "execution_count": 32,
   "metadata": {},
   "outputs": [
    {
     "name": "stdout",
     "output_type": "stream",
     "text": [
      "9\n",
      "1\n"
     ]
    }
   ],
   "source": [
    "# num of input signals\n",
    "#input_dim = X_train.shape[1]\n",
    "# num of output signals\n",
    "#output_dim = y_train.shape[1]\n",
    "\n",
    "\n",
    "input_seq_len = 8  \n",
    "output_seq_len = 1\n",
    "num_input_features =  X_train.shape[1]\n",
    "print(num_input_features)\n",
    "num_output_features = y_train.shape[1]\n",
    "print(num_output_features)\n",
    "batch_size = 10"
   ]
  },
  {
   "cell_type": "code",
   "execution_count": 33,
   "metadata": {},
   "outputs": [],
   "source": [
    "\n",
    "#input_seq_len = 30\n",
    "#output_seq_len = 5\n",
    "\n",
    "def generate_train_samples(x = X_train, y = y_train, batch_size = 10, input_seq_len = input_seq_len, output_seq_len = output_seq_len):\n",
    "\n",
    "    total_start_points = len(x) - input_seq_len - output_seq_len\n",
    "    start_x_idx = np.random.choice(range(total_start_points), total_start_points, replace = False)\n",
    "    \n",
    "    input_batch_idxs = [list(range(i, i+input_seq_len)) for i in start_x_idx]\n",
    "    input_seq = np.take(x, input_batch_idxs, axis = 0)\n",
    "    \n",
    "    output_batch_idxs = [list(range(i+input_seq_len, i+input_seq_len+output_seq_len)) for i in start_x_idx]\n",
    "    output_seq = np.take(y, output_batch_idxs, axis = 0)\n",
    "    \n",
    "    return input_seq, output_seq # in shape: (batch_size, time_steps, feature_dim)"
   ]
  },
  {
   "cell_type": "code",
   "execution_count": 34,
   "metadata": {},
   "outputs": [
    {
     "name": "stdout",
     "output_type": "stream",
     "text": [
      "(39609, 8, 9) (39609, 1, 1)\n"
     ]
    }
   ],
   "source": [
    "X_train, y_train = generate_train_samples()\n",
    "print(X_train.shape, y_train.shape)"
   ]
  },
  {
   "cell_type": "code",
   "execution_count": 35,
   "metadata": {},
   "outputs": [
    {
     "name": "stdout",
     "output_type": "stream",
     "text": [
      "(39609, 8, 9) (39609, 1, 1)\n"
     ]
    }
   ],
   "source": [
    "input_seq, output_seq = generate_train_samples()\n",
    "print(input_seq.shape, output_seq.shape)"
   ]
  },
  {
   "cell_type": "code",
   "execution_count": 36,
   "metadata": {},
   "outputs": [],
   "source": [
    "# Define an input series and encode it with an LSTM. \n",
    "\n",
    "encoder_inputs = tf.keras.layers.Input(shape=(None, num_input_features)) \n",
    "encoder = LSTM(128, return_state=True)\n",
    "encoder_outputs, state_h, state_c = encoder(encoder_inputs)\n",
    "\n",
    "# We discard `encoder_outputs` and only keep the final states. These represent the \"context\"\n",
    "# vector that we use as the basis for decoding.\n",
    "encoder_states = [state_h, state_c]"
   ]
  },
  {
   "cell_type": "code",
   "execution_count": 37,
   "metadata": {},
   "outputs": [
    {
     "name": "stdout",
     "output_type": "stream",
     "text": [
      "Model: \"model\"\n",
      "__________________________________________________________________________________________________\n",
      "Layer (type)                    Output Shape         Param #     Connected to                     \n",
      "==================================================================================================\n",
      "input_1 (InputLayer)            [(None, None, 9)]    0                                            \n",
      "__________________________________________________________________________________________________\n",
      "input_2 (InputLayer)            [(None, None, 1)]    0                                            \n",
      "__________________________________________________________________________________________________\n",
      "lstm (LSTM)                     [(None, 128), (None, 70656       input_1[0][0]                    \n",
      "__________________________________________________________________________________________________\n",
      "lstm_1 (LSTM)                   [(None, None, 128),  66560       input_2[0][0]                    \n",
      "                                                                 lstm[0][1]                       \n",
      "                                                                 lstm[0][2]                       \n",
      "__________________________________________________________________________________________________\n",
      "dense (Dense)                   (None, None, 1)      129         lstm_1[0][0]                     \n",
      "==================================================================================================\n",
      "Total params: 137,345\n",
      "Trainable params: 137,345\n",
      "Non-trainable params: 0\n",
      "__________________________________________________________________________________________________\n"
     ]
    }
   ],
   "source": [
    "# Set up the decoder, using `encoder_states` as initial state.\n",
    "# This is where teacher forcing inputs are fed in.\n",
    "decoder_inputs = tf.keras.layers.Input(shape=(None, 1)) \n",
    "\n",
    "\n",
    "# We set up our decoder using `encoder_states` as initial state.  \n",
    "# We return full output sequences and return internal states as well. \n",
    "# We don't use the return states in the training model, but we will use them in inference.\n",
    "decoder_lstm = LSTM(128,  return_sequences=True, return_state=True)\n",
    "decoder_outputs, _, _ = decoder_lstm(decoder_inputs,\n",
    "                                     initial_state=encoder_states)\n",
    "\n",
    "decoder_dense = Dense(1) # 1 continuous output at each timestep\n",
    "decoder_outputs = decoder_dense(decoder_outputs)\n",
    "\n",
    "# Define the model that will turn\n",
    "# `encoder_input_data` & `decoder_input_data` into `decoder_target_data`\n",
    "#model = Model([encoder_inputs, decoder_inputs], decoder_outputs)\n",
    "\n",
    "model = Model(inputs=[encoder_inputs, decoder_inputs], outputs=decoder_outputs)\n",
    "model.summary()"
   ]
  },
  {
   "cell_type": "code",
   "execution_count": 38,
   "metadata": {},
   "outputs": [],
   "source": [
    "optimizer = tf.keras.optimizers.Adam(lr=0.001)\n",
    "model.compile(loss='mse', optimizer= optimizer, metrics=[ 'mse'])"
   ]
  },
  {
   "cell_type": "code",
   "execution_count": 39,
   "metadata": {
    "scrolled": true
   },
   "outputs": [
    {
     "name": "stdout",
     "output_type": "stream",
     "text": [
      "Epoch 1/100\n",
      "3565/3565 [==============================] - 23s 5ms/step - loss: 0.0618 - mse: 0.0618 - val_loss: 0.0581 - val_mse: 0.0581\n",
      "Epoch 2/100\n",
      "3565/3565 [==============================] - 17s 5ms/step - loss: 0.0592 - mse: 0.0592 - val_loss: 0.0581 - val_mse: 0.0581\n",
      "Epoch 3/100\n",
      "3565/3565 [==============================] - 17s 5ms/step - loss: 0.0590 - mse: 0.0590 - val_loss: 0.0581 - val_mse: 0.0581\n",
      "Epoch 4/100\n",
      "3565/3565 [==============================] - 16s 5ms/step - loss: 0.0589 - mse: 0.0589 - val_loss: 0.0581 - val_mse: 0.0581\n",
      "Epoch 5/100\n",
      "3565/3565 [==============================] - 16s 5ms/step - loss: 0.0589 - mse: 0.0589 - val_loss: 0.0581 - val_mse: 0.0581\n",
      "Epoch 6/100\n",
      "3565/3565 [==============================] - 17s 5ms/step - loss: 0.0589 - mse: 0.0589 - val_loss: 0.0581 - val_mse: 0.0581\n",
      "Epoch 7/100\n",
      "3565/3565 [==============================] - 17s 5ms/step - loss: 0.0588 - mse: 0.0588 - val_loss: 0.0581 - val_mse: 0.0581\n",
      "Epoch 8/100\n",
      "3565/3565 [==============================] - 17s 5ms/step - loss: 0.0588 - mse: 0.0588 - val_loss: 0.0581 - val_mse: 0.0581\n",
      "Epoch 9/100\n",
      "3565/3565 [==============================] - 17s 5ms/step - loss: 0.0588 - mse: 0.0588 - val_loss: 0.0581 - val_mse: 0.0581\n",
      "Epoch 10/100\n",
      "3565/3565 [==============================] - 17s 5ms/step - loss: 0.0588 - mse: 0.0588 - val_loss: 0.0582 - val_mse: 0.0582\n",
      "Epoch 11/100\n",
      "3565/3565 [==============================] - 17s 5ms/step - loss: 0.0587 - mse: 0.0587 - val_loss: 0.0582 - val_mse: 0.0582\n",
      "Epoch 12/100\n",
      "3565/3565 [==============================] - 17s 5ms/step - loss: 0.0587 - mse: 0.0587 - val_loss: 0.0582 - val_mse: 0.0582\n",
      "Epoch 13/100\n",
      "3565/3565 [==============================] - 17s 5ms/step - loss: 0.0587 - mse: 0.0587 - val_loss: 0.0583 - val_mse: 0.0583\n",
      "Epoch 14/100\n",
      "3565/3565 [==============================] - 17s 5ms/step - loss: 0.0587 - mse: 0.0587 - val_loss: 0.0583 - val_mse: 0.0583\n",
      "Epoch 15/100\n",
      "3565/3565 [==============================] - 17s 5ms/step - loss: 0.0586 - mse: 0.0586 - val_loss: 0.0584 - val_mse: 0.0584\n",
      "Epoch 16/100\n",
      "3565/3565 [==============================] - 17s 5ms/step - loss: 0.0586 - mse: 0.0586 - val_loss: 0.0584 - val_mse: 0.0584\n",
      "Epoch 17/100\n",
      "3565/3565 [==============================] - 17s 5ms/step - loss: 0.0585 - mse: 0.0585 - val_loss: 0.0586 - val_mse: 0.0586\n",
      "Epoch 18/100\n",
      "3565/3565 [==============================] - 17s 5ms/step - loss: 0.0584 - mse: 0.0584 - val_loss: 0.0586 - val_mse: 0.0586\n",
      "Epoch 19/100\n",
      "3565/3565 [==============================] - 17s 5ms/step - loss: 0.0584 - mse: 0.0584 - val_loss: 0.0587 - val_mse: 0.0587\n",
      "Epoch 20/100\n",
      "3565/3565 [==============================] - 17s 5ms/step - loss: 0.0583 - mse: 0.0583 - val_loss: 0.0589 - val_mse: 0.0589\n",
      "Epoch 21/100\n",
      "3565/3565 [==============================] - 17s 5ms/step - loss: 0.0582 - mse: 0.0582 - val_loss: 0.0590 - val_mse: 0.0590\n",
      "Epoch 22/100\n",
      "3565/3565 [==============================] - 17s 5ms/step - loss: 0.0581 - mse: 0.0581 - val_loss: 0.0591 - val_mse: 0.0591\n",
      "Epoch 23/100\n",
      "3565/3565 [==============================] - 17s 5ms/step - loss: 0.0580 - mse: 0.0580 - val_loss: 0.0591 - val_mse: 0.0591\n",
      "Epoch 24/100\n",
      "3565/3565 [==============================] - 17s 5ms/step - loss: 0.0579 - mse: 0.0579 - val_loss: 0.0595 - val_mse: 0.0595\n",
      "Epoch 25/100\n",
      "3565/3565 [==============================] - 17s 5ms/step - loss: 0.0579 - mse: 0.0579 - val_loss: 0.0593 - val_mse: 0.0593\n",
      "Epoch 26/100\n",
      "3565/3565 [==============================] - 17s 5ms/step - loss: 0.0578 - mse: 0.0578 - val_loss: 0.0609 - val_mse: 0.0609\n",
      "Epoch 27/100\n",
      "3565/3565 [==============================] - 17s 5ms/step - loss: 0.0577 - mse: 0.0577 - val_loss: 0.0596 - val_mse: 0.0596\n",
      "Epoch 28/100\n",
      "3565/3565 [==============================] - 17s 5ms/step - loss: 0.0574 - mse: 0.0574 - val_loss: 0.0616 - val_mse: 0.0616\n",
      "Epoch 29/100\n",
      "3565/3565 [==============================] - 17s 5ms/step - loss: 0.0574 - mse: 0.0574 - val_loss: 0.0609 - val_mse: 0.0609\n",
      "Epoch 30/100\n",
      "3565/3565 [==============================] - 17s 5ms/step - loss: 0.0570 - mse: 0.0570 - val_loss: 0.0618 - val_mse: 0.0618\n",
      "Epoch 31/100\n",
      "3565/3565 [==============================] - 17s 5ms/step - loss: 0.0567 - mse: 0.0567 - val_loss: 0.0613 - val_mse: 0.0613\n",
      "Epoch 32/100\n",
      "3565/3565 [==============================] - 17s 5ms/step - loss: 0.0564 - mse: 0.0564 - val_loss: 0.0618 - val_mse: 0.0618\n",
      "Epoch 33/100\n",
      "3565/3565 [==============================] - 17s 5ms/step - loss: 0.0560 - mse: 0.0560 - val_loss: 0.0616 - val_mse: 0.0616\n",
      "Epoch 34/100\n",
      "3565/3565 [==============================] - 17s 5ms/step - loss: 0.0556 - mse: 0.0556 - val_loss: 0.0635 - val_mse: 0.0635\n",
      "Epoch 35/100\n",
      "3565/3565 [==============================] - 17s 5ms/step - loss: 0.0553 - mse: 0.0553 - val_loss: 0.0635 - val_mse: 0.0635\n",
      "Epoch 36/100\n",
      "3565/3565 [==============================] - 17s 5ms/step - loss: 0.0549 - mse: 0.0549 - val_loss: 0.0635 - val_mse: 0.0635\n",
      "Epoch 37/100\n",
      "3565/3565 [==============================] - 17s 5ms/step - loss: 0.0545 - mse: 0.0545 - val_loss: 0.0646 - val_mse: 0.0646\n",
      "Epoch 38/100\n",
      "3565/3565 [==============================] - 17s 5ms/step - loss: 0.0541 - mse: 0.0541 - val_loss: 0.0645 - val_mse: 0.0645\n",
      "Epoch 39/100\n",
      "3565/3565 [==============================] - 17s 5ms/step - loss: 0.0536 - mse: 0.0536 - val_loss: 0.0658 - val_mse: 0.0658\n",
      "Epoch 40/100\n",
      "3565/3565 [==============================] - 17s 5ms/step - loss: 0.0533 - mse: 0.0533 - val_loss: 0.0642 - val_mse: 0.0642\n",
      "Epoch 41/100\n",
      "3565/3565 [==============================] - 17s 5ms/step - loss: 0.0527 - mse: 0.0527 - val_loss: 0.0652 - val_mse: 0.0652\n",
      "Epoch 42/100\n",
      "3565/3565 [==============================] - 17s 5ms/step - loss: 0.0522 - mse: 0.0522 - val_loss: 0.0667 - val_mse: 0.0667\n",
      "Epoch 43/100\n",
      "3565/3565 [==============================] - 17s 5ms/step - loss: 0.0517 - mse: 0.0517 - val_loss: 0.0672 - val_mse: 0.0672\n",
      "Epoch 44/100\n",
      "3565/3565 [==============================] - 16s 5ms/step - loss: 0.0513 - mse: 0.0513 - val_loss: 0.0682 - val_mse: 0.0682\n",
      "Epoch 45/100\n",
      "3565/3565 [==============================] - 17s 5ms/step - loss: 0.0505 - mse: 0.0505 - val_loss: 0.0688 - val_mse: 0.0688\n",
      "Epoch 46/100\n",
      "3565/3565 [==============================] - 17s 5ms/step - loss: 0.0500 - mse: 0.0500 - val_loss: 0.0688 - val_mse: 0.0688\n",
      "Epoch 47/100\n",
      "3565/3565 [==============================] - 17s 5ms/step - loss: 0.0491 - mse: 0.0491 - val_loss: 0.0713 - val_mse: 0.0713\n",
      "Epoch 48/100\n",
      "3565/3565 [==============================] - 17s 5ms/step - loss: 0.0483 - mse: 0.0483 - val_loss: 0.0718 - val_mse: 0.0718\n",
      "Epoch 49/100\n",
      "3565/3565 [==============================] - 17s 5ms/step - loss: 0.0476 - mse: 0.0476 - val_loss: 0.0731 - val_mse: 0.0731\n",
      "Epoch 50/100\n",
      "3565/3565 [==============================] - 17s 5ms/step - loss: 0.0470 - mse: 0.0470 - val_loss: 0.0729 - val_mse: 0.0729\n",
      "Epoch 51/100\n",
      "3565/3565 [==============================] - 17s 5ms/step - loss: 0.0463 - mse: 0.0463 - val_loss: 0.0747 - val_mse: 0.0747\n",
      "Epoch 52/100\n",
      "3565/3565 [==============================] - 17s 5ms/step - loss: 0.0456 - mse: 0.0456 - val_loss: 0.0755 - val_mse: 0.0755\n",
      "Epoch 53/100\n",
      "3565/3565 [==============================] - 17s 5ms/step - loss: 0.0450 - mse: 0.0450 - val_loss: 0.0776 - val_mse: 0.0776\n",
      "Epoch 54/100\n",
      "3565/3565 [==============================] - 17s 5ms/step - loss: 0.0440 - mse: 0.0440 - val_loss: 0.0785 - val_mse: 0.0785\n",
      "Epoch 55/100\n",
      "3565/3565 [==============================] - 17s 5ms/step - loss: 0.0433 - mse: 0.0433 - val_loss: 0.0789 - val_mse: 0.0789\n",
      "Epoch 56/100\n",
      "3565/3565 [==============================] - 17s 5ms/step - loss: 0.0425 - mse: 0.0425 - val_loss: 0.0768 - val_mse: 0.0768\n",
      "Epoch 57/100\n",
      "3565/3565 [==============================] - 17s 5ms/step - loss: 0.0421 - mse: 0.0421 - val_loss: 0.0765 - val_mse: 0.0765\n",
      "Epoch 58/100\n",
      "3565/3565 [==============================] - 17s 5ms/step - loss: 0.0413 - mse: 0.0413 - val_loss: 0.0769 - val_mse: 0.0769\n",
      "Epoch 59/100\n",
      "3565/3565 [==============================] - 17s 5ms/step - loss: 0.0406 - mse: 0.0406 - val_loss: 0.0779 - val_mse: 0.0779\n",
      "Epoch 60/100\n",
      "3565/3565 [==============================] - 17s 5ms/step - loss: 0.0399 - mse: 0.0399 - val_loss: 0.0781 - val_mse: 0.0781\n",
      "Epoch 61/100\n",
      "3565/3565 [==============================] - 17s 5ms/step - loss: 0.0394 - mse: 0.0394 - val_loss: 0.0778 - val_mse: 0.0778\n",
      "Epoch 62/100\n",
      "3565/3565 [==============================] - 17s 5ms/step - loss: 0.0385 - mse: 0.0385 - val_loss: 0.0779 - val_mse: 0.0779\n",
      "Epoch 63/100\n",
      "3565/3565 [==============================] - 17s 5ms/step - loss: 0.0377 - mse: 0.0377 - val_loss: 0.0791 - val_mse: 0.0791\n",
      "Epoch 64/100\n",
      "3565/3565 [==============================] - 17s 5ms/step - loss: 0.0370 - mse: 0.0370 - val_loss: 0.0767 - val_mse: 0.0767\n",
      "Epoch 65/100\n",
      "3565/3565 [==============================] - 17s 5ms/step - loss: 0.0364 - mse: 0.0364 - val_loss: 0.0799 - val_mse: 0.0799\n",
      "Epoch 66/100\n",
      "3565/3565 [==============================] - 17s 5ms/step - loss: 0.0356 - mse: 0.0356 - val_loss: 0.0800 - val_mse: 0.0800\n",
      "Epoch 67/100\n",
      "3565/3565 [==============================] - 17s 5ms/step - loss: 0.0351 - mse: 0.0351 - val_loss: 0.0777 - val_mse: 0.0777\n",
      "Epoch 68/100\n",
      "3565/3565 [==============================] - 17s 5ms/step - loss: 0.0342 - mse: 0.0342 - val_loss: 0.0789 - val_mse: 0.0789\n",
      "Epoch 69/100\n",
      "3565/3565 [==============================] - 17s 5ms/step - loss: 0.0337 - mse: 0.0337 - val_loss: 0.0798 - val_mse: 0.0798\n",
      "Epoch 70/100\n",
      "3565/3565 [==============================] - 16s 5ms/step - loss: 0.0330 - mse: 0.0330 - val_loss: 0.0805 - val_mse: 0.0805\n",
      "Epoch 71/100\n",
      "3565/3565 [==============================] - 17s 5ms/step - loss: 0.0325 - mse: 0.0325 - val_loss: 0.0800 - val_mse: 0.0800\n",
      "Epoch 72/100\n",
      "3565/3565 [==============================] - 17s 5ms/step - loss: 0.0317 - mse: 0.0317 - val_loss: 0.0803 - val_mse: 0.0803\n",
      "Epoch 73/100\n",
      "3565/3565 [==============================] - 17s 5ms/step - loss: 0.0313 - mse: 0.0313 - val_loss: 0.0808 - val_mse: 0.0808\n",
      "Epoch 74/100\n",
      "3565/3565 [==============================] - 17s 5ms/step - loss: 0.0305 - mse: 0.0305 - val_loss: 0.0828 - val_mse: 0.0828\n",
      "Epoch 75/100\n",
      "3565/3565 [==============================] - 18s 5ms/step - loss: 0.0299 - mse: 0.0299 - val_loss: 0.0818 - val_mse: 0.0818\n",
      "Epoch 76/100\n",
      "3565/3565 [==============================] - 17s 5ms/step - loss: 0.0293 - mse: 0.0293 - val_loss: 0.0830 - val_mse: 0.0830\n",
      "Epoch 77/100\n",
      "3565/3565 [==============================] - 18s 5ms/step - loss: 0.0286 - mse: 0.0286 - val_loss: 0.0841 - val_mse: 0.0841\n",
      "Epoch 78/100\n",
      "3565/3565 [==============================] - 20s 6ms/step - loss: 0.0280 - mse: 0.0280 - val_loss: 0.0860 - val_mse: 0.0860\n",
      "Epoch 79/100\n",
      "3565/3565 [==============================] - 20s 6ms/step - loss: 0.0274 - mse: 0.0274 - val_loss: 0.0857 - val_mse: 0.0857\n",
      "Epoch 80/100\n",
      "3565/3565 [==============================] - 20s 6ms/step - loss: 0.0269 - mse: 0.0269 - val_loss: 0.0875 - val_mse: 0.0875\n",
      "Epoch 81/100\n",
      "3565/3565 [==============================] - 20s 6ms/step - loss: 0.0262 - mse: 0.0262 - val_loss: 0.0883 - val_mse: 0.0883\n",
      "Epoch 82/100\n",
      "3565/3565 [==============================] - 18s 5ms/step - loss: 0.0258 - mse: 0.0258 - val_loss: 0.0881 - val_mse: 0.0881\n",
      "Epoch 83/100\n",
      "3565/3565 [==============================] - 18s 5ms/step - loss: 0.0253 - mse: 0.0253 - val_loss: 0.0892 - val_mse: 0.0892\n",
      "Epoch 84/100\n",
      "3565/3565 [==============================] - 18s 5ms/step - loss: 0.0245 - mse: 0.0245 - val_loss: 0.0905 - val_mse: 0.0905\n",
      "Epoch 85/100\n",
      "3565/3565 [==============================] - 18s 5ms/step - loss: 0.0240 - mse: 0.0240 - val_loss: 0.0904 - val_mse: 0.0904\n",
      "Epoch 86/100\n",
      "3565/3565 [==============================] - 18s 5ms/step - loss: 0.0235 - mse: 0.0235 - val_loss: 0.0921 - val_mse: 0.0921\n",
      "Epoch 87/100\n",
      "3565/3565 [==============================] - 18s 5ms/step - loss: 0.0227 - mse: 0.0227 - val_loss: 0.0934 - val_mse: 0.0934\n",
      "Epoch 88/100\n",
      "3565/3565 [==============================] - 19s 5ms/step - loss: 0.0226 - mse: 0.0226 - val_loss: 0.0930 - val_mse: 0.0930\n",
      "Epoch 89/100\n",
      "3565/3565 [==============================] - 19s 5ms/step - loss: 0.0220 - mse: 0.0220 - val_loss: 0.0960 - val_mse: 0.0960\n",
      "Epoch 90/100\n",
      "3565/3565 [==============================] - 18s 5ms/step - loss: 0.0215 - mse: 0.0215 - val_loss: 0.0943 - val_mse: 0.0943\n",
      "Epoch 91/100\n",
      "3565/3565 [==============================] - 18s 5ms/step - loss: 0.0210 - mse: 0.0210 - val_loss: 0.0946 - val_mse: 0.0946\n",
      "Epoch 92/100\n",
      "3565/3565 [==============================] - 18s 5ms/step - loss: 0.0206 - mse: 0.0206 - val_loss: 0.0951 - val_mse: 0.0951\n",
      "Epoch 93/100\n",
      "3565/3565 [==============================] - 17s 5ms/step - loss: 0.0199 - mse: 0.0199 - val_loss: 0.0961 - val_mse: 0.0961\n",
      "Epoch 94/100\n",
      "3565/3565 [==============================] - 18s 5ms/step - loss: 0.0196 - mse: 0.0196 - val_loss: 0.0965 - val_mse: 0.0965\n",
      "Epoch 95/100\n",
      "3565/3565 [==============================] - 20s 6ms/step - loss: 0.0191 - mse: 0.0191 - val_loss: 0.0959 - val_mse: 0.0959\n",
      "Epoch 96/100\n",
      "3565/3565 [==============================] - 21s 6ms/step - loss: 0.0187 - mse: 0.0187 - val_loss: 0.0966 - val_mse: 0.0966\n",
      "Epoch 97/100\n",
      "3565/3565 [==============================] - 20s 6ms/step - loss: 0.0183 - mse: 0.0183 - val_loss: 0.0969 - val_mse: 0.0969\n",
      "Epoch 98/100\n",
      "3565/3565 [==============================] - 18s 5ms/step - loss: 0.0179 - mse: 0.0179 - val_loss: 0.0977 - val_mse: 0.0977\n",
      "Epoch 99/100\n",
      "3565/3565 [==============================] - 19s 5ms/step - loss: 0.0174 - mse: 0.0174 - val_loss: 0.0953 - val_mse: 0.0953\n",
      "Epoch 100/100\n",
      "3565/3565 [==============================] - 19s 5ms/step - loss: 0.0171 - mse: 0.0171 - val_loss: 0.0970 - val_mse: 0.0970\n"
     ]
    }
   ],
   "source": [
    "#input_seq, output_seq = generate_train_samples(X_train)\n",
    "\n",
    "encoder_input_data = input_seq\n",
    "decoder_target_data = output_seq\n",
    "decoder_input_data = np.zeros(decoder_target_data.shape)\n",
    "\n",
    "history = model.fit([encoder_input_data, decoder_input_data], decoder_target_data,\n",
    "                             batch_size=batch_size,\n",
    "                             epochs= 100,\n",
    "                             validation_split=0.1, \n",
    "                             shuffle=False)"
   ]
  },
  {
   "cell_type": "code",
   "execution_count": 40,
   "metadata": {},
   "outputs": [
    {
     "data": {
      "image/png": "[encoded data removed]",
      "text/plain": [
       "<Figure size 432x288 with 1 Axes>"
      ]
     },
     "metadata": {
      "needs_background": "light"
     },
     "output_type": "display_data"
    }
   ],
   "source": [
    "#***************************************Model validation loss*****************************************\n",
    "plt.figure()\n",
    "plt.plot(history.history['loss'])\n",
    "plt.plot(history.history['val_loss'])\n",
    "#plt.title('Model Loss')\n",
    "plt.ylabel('Mean sequared error loss')\n",
    "plt.xlabel('Epoch')\n",
    "plt.legend(['Training', 'Validation'], loc='upper right')\n",
    "plt.show()"
   ]
  },
  {
   "cell_type": "code",
   "execution_count": 41,
   "metadata": {},
   "outputs": [],
   "source": [
    "# define inference encoder\n",
    "n_units = 128\n",
    "\n",
    "encoder_model = tf.keras.Model(encoder_inputs, encoder_states)\n",
    "    \n",
    "# define inference decoder\n",
    "decoder_state_input_h = Input(shape=(n_units,))\n",
    "decoder_state_input_c = Input(shape=(n_units,))\n",
    "decoder_states_inputs = [decoder_state_input_h, decoder_state_input_c]\n",
    "decoder_outputs, state_h, state_c = decoder_lstm(decoder_inputs, initial_state=decoder_states_inputs)\n",
    "decoder_states = [state_h, state_c]\n",
    "decoder_outputs = decoder_dense(decoder_outputs)\n",
    "\n",
    "decoder_model = tf.keras.Model([decoder_inputs] + decoder_states_inputs, [decoder_outputs] + decoder_states)"
   ]
  },
  {
   "cell_type": "code",
   "execution_count": 42,
   "metadata": {},
   "outputs": [],
   "source": [
    "def predict(x, encoder_model, decoder_model, num_steps_to_predict):\n",
    "    \n",
    "    y_predicted = []\n",
    "\n",
    "    # Encode the values as a state vector\n",
    "    states = encoder_model.predict(x)\n",
    "\n",
    "    # The states must be a list\n",
    "    if not isinstance(states, list):\n",
    "        states = [states]\n",
    "\n",
    "    # Generate first value of the decoder input sequence\n",
    "    decoder_input = np.zeros((x.shape[0], 1, 1))\n",
    "\n",
    "\n",
    "    for _ in range(num_steps_to_predict):\n",
    "        outputs_and_states = decoder_model.predict([decoder_input] + states, batch_size=batch_size)\n",
    "        output = outputs_and_states[0]\n",
    "        states = outputs_and_states[1:]\n",
    "\n",
    "        # add predicted value\n",
    "        y_predicted.append(output)\n",
    "\n",
    "    return np.concatenate(y_predicted, axis=1)"
   ]
  },
  {
   "cell_type": "code",
   "execution_count": 43,
   "metadata": {},
   "outputs": [],
   "source": [
    "def generate_test_samples(x = X_test, y = y_test, input_seq_len = input_seq_len, output_seq_len = output_seq_len):\n",
    "    \n",
    "    total_samples = x.shape[0]\n",
    "    \n",
    "    input_batch_idxs = [list(range(i, i+input_seq_len)) for i in range((total_samples-input_seq_len-output_seq_len))]\n",
    "    input_seq = np.take(x, input_batch_idxs, axis = 0)\n",
    "    \n",
    "    output_batch_idxs = [list(range(i+input_seq_len, i+input_seq_len+output_seq_len)) for i in range((total_samples-input_seq_len-output_seq_len))]\n",
    "    output_seq = np.take(y, output_batch_idxs, axis = 0)\n",
    "    \n",
    "    return input_seq, output_seq"
   ]
  },
  {
   "cell_type": "code",
   "execution_count": 44,
   "metadata": {},
   "outputs": [
    {
     "name": "stdout",
     "output_type": "stream",
     "text": [
      "(9896, 8, 9) (9896, 1, 1)\n"
     ]
    }
   ],
   "source": [
    "X_test, y_test = generate_test_samples()\n",
    "print(X_test.shape, y_test.shape)"
   ]
  },
  {
   "cell_type": "code",
   "execution_count": 45,
   "metadata": {},
   "outputs": [
    {
     "data": {
      "text/plain": [
       "(9896, 1, 1)"
      ]
     },
     "execution_count": 45,
     "metadata": {},
     "output_type": "execute_result"
    }
   ],
   "source": [
    "#from utils import plot_prediction\n",
    "num_steps_to_predict = output_seq_len\n",
    "y_test_predicted = predict(X_test, encoder_model, decoder_model, num_steps_to_predict)\n",
    "y_test_predicted.shape"
   ]
  },
  {
   "cell_type": "code",
   "execution_count": 46,
   "metadata": {},
   "outputs": [
    {
     "data": {
      "text/plain": [
       "(9896, 1, 1)"
      ]
     },
     "execution_count": 46,
     "metadata": {},
     "output_type": "execute_result"
    }
   ],
   "source": [
    "y_test.shape"
   ]
  },
  {
   "cell_type": "code",
   "execution_count": 47,
   "metadata": {},
   "outputs": [],
   "source": [
    "y_test_predicted = y_test_predicted.reshape(y_test_predicted.shape[0], y_test_predicted.shape[1])\n",
    "y_test_predicted_inv = scaler.inverse_transform(y_test_predicted)\n",
    "\n",
    "y_test = y_test.reshape(y_test.shape[0], y_test.shape[1])\n",
    "y_test_inv = scaler.inverse_transform(y_test)"
   ]
  },
  {
   "cell_type": "code",
   "execution_count": 48,
   "metadata": {},
   "outputs": [
    {
     "data": {
      "image/png": "[encoded data removed]",
      "text/plain": [
       "<Figure size 432x288 with 1 Axes>"
      ]
     },
     "metadata": {
      "needs_background": "light"
     },
     "output_type": "display_data"
    }
   ],
   "source": [
    "\n",
    "plt.plot(y_test_predicted_inv[:100], label = \"pred\", color ='blue')\n",
    "plt.plot(y_test_inv[:100], label = \"actual\", color= 'yellow')\n",
    "plt.show()"
   ]
  },
  {
   "cell_type": "code",
   "execution_count": 49,
   "metadata": {},
   "outputs": [
    {
     "data": {
      "image/png": "[encoded data removed]",
      "text/plain": [
       "<Figure size 1080x360 with 1 Axes>"
      ]
     },
     "metadata": {
      "needs_background": "light"
     },
     "output_type": "display_data"
    },
    {
     "data": {
      "image/png": "[encoded data removed]",
      "text/plain": [
       "<Figure size 1080x360 with 1 Axes>"
      ]
     },
     "metadata": {
      "needs_background": "light"
     },
     "output_type": "display_data"
    }
   ],
   "source": [
    "#********************* Actual value, Predicted value and Prediction Error ***************\n",
    "\n",
    "plt.figure(figsize = (15, 5))\n",
    "plt.xlabel(\"Epoch\")\n",
    "plt.ylabel(\"Email traffic\")\n",
    "plt.plot(y_test_inv[:,0], label=\"True value\", linewidth=1,linestyle=\"--\",color= 'green')\n",
    "plt.plot(y_test_predicted_inv[:,0], label=\"Predicted value\", linewidth=1,color='blue')\n",
    "\n",
    "error = abs(y_test_inv[:,0] - y_test_predicted_inv[:,0])\n",
    "\n",
    "plt.plot(error, label='Error',color= 'orange', linewidth=1, linestyle=\"--\")\n",
    "plt.legend()\n",
    "plt.show()\n",
    "\n",
    "#******************************* True value vs Prediction **********************/\n",
    "\n",
    "plt.figure(figsize = (15, 5))\n",
    "plt.xlabel(\"Epoch\")\n",
    "plt.ylabel(\"Email traffic\")\n",
    "plt.plot (y_test_inv[:,0], label=\"True value\", linewidth=1,color= 'green', linestyle=\"--\")\n",
    "plt.plot(y_test_predicted_inv[:,0], label=\"Predicted value\", linewidth=1,color='blue')\n",
    "plt.legend()\n",
    "plt.show()"
   ]
  },
  {
   "cell_type": "code",
   "execution_count": 50,
   "metadata": {},
   "outputs": [],
   "source": [
    "#Prediction\n",
    "\n",
    "\n",
    "models.loc['RPE','seq2seq'] = round(relative_percent_error(y_test, y_test_predicted), 2)\n",
    "models.loc['MAE','seq2seq'] = mean_absolute_error(y_test, y_test_predicted)\n",
    "models.loc['MAPE','seq2seq'] = mean_absolute_percentage_error(y_test, y_test_predicted)"
   ]
  },
  {
   "cell_type": "code",
   "execution_count": 51,
   "metadata": {},
   "outputs": [
    {
     "name": "stdout",
     "output_type": "stream",
     "text": [
      "(9896, 1) (9896, 1)\n"
     ]
    }
   ],
   "source": [
    "print(y_test_predicted.shape, y_test.shape)"
   ]
  },
  {
   "cell_type": "code",
   "execution_count": 52,
   "metadata": {},
   "outputs": [
    {
     "data": {
      "image/png": "[encoded data removed]",
      "text/plain": [
       "<Figure size 360x216 with 1 Axes>"
      ]
     },
     "metadata": {
      "needs_background": "light"
     },
     "output_type": "display_data"
    }
   ],
   "source": [
    "fig, ax = plt.subplots(figsize=(5,3))\n",
    "ax.scatter((y_test_predicted), y_test, s=4)\n",
    "ax.plot(y_test, y_test, color='red')\n",
    "ax.set_title('seq2seq model: G16B3_QP10 predicted frame')\n",
    "ax.set_xlabel('Predicted frame_size')\n",
    "ax.set_ylabel('Observed frame_size');"
   ]
  },
  {
   "cell_type": "code",
   "execution_count": null,
   "metadata": {},
   "outputs": [],
   "source": []
  },
  {
   "cell_type": "code",
   "execution_count": null,
   "metadata": {},
   "outputs": [],
   "source": []
  },
  {
   "cell_type": "markdown",
   "metadata": {},
   "source": [
    "# LSTM models"
   ]
  },
  {
   "cell_type": "code",
   "execution_count": 53,
   "metadata": {},
   "outputs": [
    {
     "data": {
      "text/html": [
       "<div>\n",
       "<style scoped>\n",
       "    .dataframe tbody tr th:only-of-type {\n",
       "        vertical-align: middle;\n",
       "    }\n",
       "\n",
       "    .dataframe tbody tr th {\n",
       "        vertical-align: top;\n",
       "    }\n",
       "\n",
       "    .dataframe thead th {\n",
       "        text-align: right;\n",
       "    }\n",
       "</style>\n",
       "<table border=\"1\" class=\"dataframe\">\n",
       "  <thead>\n",
       "    <tr style=\"text-align: right;\">\n",
       "      <th></th>\n",
       "      <th>T_1</th>\n",
       "      <th>T_2</th>\n",
       "      <th>T_3</th>\n",
       "      <th>T_4</th>\n",
       "      <th>T_5</th>\n",
       "      <th>T_6</th>\n",
       "      <th>T_7</th>\n",
       "      <th>T_8</th>\n",
       "      <th>T_9</th>\n",
       "    </tr>\n",
       "    <tr>\n",
       "      <th>arrival_time</th>\n",
       "      <th></th>\n",
       "      <th></th>\n",
       "      <th></th>\n",
       "      <th></th>\n",
       "      <th></th>\n",
       "      <th></th>\n",
       "      <th></th>\n",
       "      <th></th>\n",
       "      <th></th>\n",
       "    </tr>\n",
       "  </thead>\n",
       "  <tbody>\n",
       "    <tr>\n",
       "      <th>0.00000</th>\n",
       "      <td>0.0</td>\n",
       "      <td>0.0</td>\n",
       "      <td>0.0</td>\n",
       "      <td>0.0</td>\n",
       "      <td>0.0</td>\n",
       "      <td>0.0</td>\n",
       "      <td>0.0</td>\n",
       "      <td>0.0</td>\n",
       "      <td>0.0</td>\n",
       "    </tr>\n",
       "    <tr>\n",
       "      <th>33.33333</th>\n",
       "      <td>277192.0</td>\n",
       "      <td>0.0</td>\n",
       "      <td>0.0</td>\n",
       "      <td>0.0</td>\n",
       "      <td>0.0</td>\n",
       "      <td>0.0</td>\n",
       "      <td>0.0</td>\n",
       "      <td>0.0</td>\n",
       "      <td>0.0</td>\n",
       "    </tr>\n",
       "    <tr>\n",
       "      <th>66.66667</th>\n",
       "      <td>182048.0</td>\n",
       "      <td>277192.0</td>\n",
       "      <td>0.0</td>\n",
       "      <td>0.0</td>\n",
       "      <td>0.0</td>\n",
       "      <td>0.0</td>\n",
       "      <td>0.0</td>\n",
       "      <td>0.0</td>\n",
       "      <td>0.0</td>\n",
       "    </tr>\n",
       "    <tr>\n",
       "      <th>100.00000</th>\n",
       "      <td>257984.0</td>\n",
       "      <td>182048.0</td>\n",
       "      <td>277192.0</td>\n",
       "      <td>0.0</td>\n",
       "      <td>0.0</td>\n",
       "      <td>0.0</td>\n",
       "      <td>0.0</td>\n",
       "      <td>0.0</td>\n",
       "      <td>0.0</td>\n",
       "    </tr>\n",
       "    <tr>\n",
       "      <th>133.33333</th>\n",
       "      <td>180624.0</td>\n",
       "      <td>257984.0</td>\n",
       "      <td>182048.0</td>\n",
       "      <td>277192.0</td>\n",
       "      <td>0.0</td>\n",
       "      <td>0.0</td>\n",
       "      <td>0.0</td>\n",
       "      <td>0.0</td>\n",
       "      <td>0.0</td>\n",
       "    </tr>\n",
       "  </tbody>\n",
       "</table>\n",
       "</div>"
      ],
      "text/plain": [
       "                   T_1       T_2       T_3       T_4  T_5  T_6  T_7  T_8  T_9\n",
       "arrival_time                                                                 \n",
       "0.00000            0.0       0.0       0.0       0.0  0.0  0.0  0.0  0.0  0.0\n",
       "33.33333      277192.0       0.0       0.0       0.0  0.0  0.0  0.0  0.0  0.0\n",
       "66.66667      182048.0  277192.0       0.0       0.0  0.0  0.0  0.0  0.0  0.0\n",
       "100.00000     257984.0  182048.0  277192.0       0.0  0.0  0.0  0.0  0.0  0.0\n",
       "133.33333     180624.0  257984.0  182048.0  277192.0  0.0  0.0  0.0  0.0  0.0"
      ]
     },
     "execution_count": 53,
     "metadata": {},
     "output_type": "execute_result"
    }
   ],
   "source": [
    "predictors = ['T_1','T_2', 'T_3', 'T_4', 'T_5','T_6', 'T_7', 'T_8', 'T_9']\n",
    "\n",
    "\n",
    "X = data[predictors]\n",
    "X.index = data['arrival_time']\n",
    "X.head()"
   ]
  },
  {
   "cell_type": "code",
   "execution_count": 54,
   "metadata": {},
   "outputs": [
    {
     "data": {
      "text/html": [
       "<div>\n",
       "<style scoped>\n",
       "    .dataframe tbody tr th:only-of-type {\n",
       "        vertical-align: middle;\n",
       "    }\n",
       "\n",
       "    .dataframe tbody tr th {\n",
       "        vertical-align: top;\n",
       "    }\n",
       "\n",
       "    .dataframe thead th {\n",
       "        text-align: right;\n",
       "    }\n",
       "</style>\n",
       "<table border=\"1\" class=\"dataframe\">\n",
       "  <thead>\n",
       "    <tr style=\"text-align: right;\">\n",
       "      <th></th>\n",
       "      <th>T_1</th>\n",
       "      <th>T_2</th>\n",
       "      <th>T_3</th>\n",
       "      <th>T_4</th>\n",
       "      <th>T_5</th>\n",
       "      <th>T_6</th>\n",
       "      <th>T_7</th>\n",
       "      <th>T_8</th>\n",
       "      <th>T_9</th>\n",
       "    </tr>\n",
       "    <tr>\n",
       "      <th>arrival_time</th>\n",
       "      <th></th>\n",
       "      <th></th>\n",
       "      <th></th>\n",
       "      <th></th>\n",
       "      <th></th>\n",
       "      <th></th>\n",
       "      <th></th>\n",
       "      <th></th>\n",
       "      <th></th>\n",
       "    </tr>\n",
       "  </thead>\n",
       "  <tbody>\n",
       "    <tr>\n",
       "      <th>0.00000</th>\n",
       "      <td>0.0</td>\n",
       "      <td>0.0</td>\n",
       "      <td>0.0</td>\n",
       "      <td>0.0</td>\n",
       "      <td>0.0</td>\n",
       "      <td>0.0</td>\n",
       "      <td>0.0</td>\n",
       "      <td>0.0</td>\n",
       "      <td>0.0</td>\n",
       "    </tr>\n",
       "    <tr>\n",
       "      <th>33.33333</th>\n",
       "      <td>277192.0</td>\n",
       "      <td>0.0</td>\n",
       "      <td>0.0</td>\n",
       "      <td>0.0</td>\n",
       "      <td>0.0</td>\n",
       "      <td>0.0</td>\n",
       "      <td>0.0</td>\n",
       "      <td>0.0</td>\n",
       "      <td>0.0</td>\n",
       "    </tr>\n",
       "    <tr>\n",
       "      <th>66.66667</th>\n",
       "      <td>182048.0</td>\n",
       "      <td>277192.0</td>\n",
       "      <td>0.0</td>\n",
       "      <td>0.0</td>\n",
       "      <td>0.0</td>\n",
       "      <td>0.0</td>\n",
       "      <td>0.0</td>\n",
       "      <td>0.0</td>\n",
       "      <td>0.0</td>\n",
       "    </tr>\n",
       "    <tr>\n",
       "      <th>100.00000</th>\n",
       "      <td>257984.0</td>\n",
       "      <td>182048.0</td>\n",
       "      <td>277192.0</td>\n",
       "      <td>0.0</td>\n",
       "      <td>0.0</td>\n",
       "      <td>0.0</td>\n",
       "      <td>0.0</td>\n",
       "      <td>0.0</td>\n",
       "      <td>0.0</td>\n",
       "    </tr>\n",
       "    <tr>\n",
       "      <th>133.33333</th>\n",
       "      <td>180624.0</td>\n",
       "      <td>257984.0</td>\n",
       "      <td>182048.0</td>\n",
       "      <td>277192.0</td>\n",
       "      <td>0.0</td>\n",
       "      <td>0.0</td>\n",
       "      <td>0.0</td>\n",
       "      <td>0.0</td>\n",
       "      <td>0.0</td>\n",
       "    </tr>\n",
       "  </tbody>\n",
       "</table>\n",
       "</div>"
      ],
      "text/plain": [
       "                   T_1       T_2       T_3       T_4  T_5  T_6  T_7  T_8  T_9\n",
       "arrival_time                                                                 \n",
       "0.00000            0.0       0.0       0.0       0.0  0.0  0.0  0.0  0.0  0.0\n",
       "33.33333      277192.0       0.0       0.0       0.0  0.0  0.0  0.0  0.0  0.0\n",
       "66.66667      182048.0  277192.0       0.0       0.0  0.0  0.0  0.0  0.0  0.0\n",
       "100.00000     257984.0  182048.0  277192.0       0.0  0.0  0.0  0.0  0.0  0.0\n",
       "133.33333     180624.0  257984.0  182048.0  277192.0  0.0  0.0  0.0  0.0  0.0"
      ]
     },
     "execution_count": 54,
     "metadata": {},
     "output_type": "execute_result"
    }
   ],
   "source": [
    "X.head(5)"
   ]
  },
  {
   "cell_type": "code",
   "execution_count": null,
   "metadata": {},
   "outputs": [],
   "source": []
  },
  {
   "cell_type": "code",
   "execution_count": 55,
   "metadata": {},
   "outputs": [],
   "source": [
    "target_name = ['frame_size']\n",
    "\n",
    "#X = data.drop('frame_size', axis=1)\n",
    "y = data[target_name]"
   ]
  },
  {
   "cell_type": "code",
   "execution_count": 56,
   "metadata": {},
   "outputs": [
    {
     "data": {
      "text/html": [
       "<div>\n",
       "<style scoped>\n",
       "    .dataframe tbody tr th:only-of-type {\n",
       "        vertical-align: middle;\n",
       "    }\n",
       "\n",
       "    .dataframe tbody tr th {\n",
       "        vertical-align: top;\n",
       "    }\n",
       "\n",
       "    .dataframe thead th {\n",
       "        text-align: right;\n",
       "    }\n",
       "</style>\n",
       "<table border=\"1\" class=\"dataframe\">\n",
       "  <thead>\n",
       "    <tr style=\"text-align: right;\">\n",
       "      <th></th>\n",
       "      <th>frame_size</th>\n",
       "    </tr>\n",
       "  </thead>\n",
       "  <tbody>\n",
       "    <tr>\n",
       "      <th>0</th>\n",
       "      <td>277192</td>\n",
       "    </tr>\n",
       "    <tr>\n",
       "      <th>2</th>\n",
       "      <td>182048</td>\n",
       "    </tr>\n",
       "    <tr>\n",
       "      <th>1</th>\n",
       "      <td>257984</td>\n",
       "    </tr>\n",
       "    <tr>\n",
       "      <th>4</th>\n",
       "      <td>180624</td>\n",
       "    </tr>\n",
       "    <tr>\n",
       "      <th>3</th>\n",
       "      <td>257248</td>\n",
       "    </tr>\n",
       "  </tbody>\n",
       "</table>\n",
       "</div>"
      ],
      "text/plain": [
       "   frame_size\n",
       "0      277192\n",
       "2      182048\n",
       "1      257984\n",
       "4      180624\n",
       "3      257248"
      ]
     },
     "execution_count": 56,
     "metadata": {},
     "output_type": "execute_result"
    }
   ],
   "source": [
    "y.head(5)"
   ]
  },
  {
   "cell_type": "code",
   "execution_count": 57,
   "metadata": {},
   "outputs": [
    {
     "data": {
      "text/plain": [
       "(49523, 9)"
      ]
     },
     "execution_count": 57,
     "metadata": {},
     "output_type": "execute_result"
    }
   ],
   "source": [
    "X.shape"
   ]
  },
  {
   "cell_type": "code",
   "execution_count": 58,
   "metadata": {},
   "outputs": [
    {
     "data": {
      "text/plain": [
       "(49523, 1)"
      ]
     },
     "execution_count": 58,
     "metadata": {},
     "output_type": "execute_result"
    }
   ],
   "source": [
    "y.shape"
   ]
  },
  {
   "cell_type": "code",
   "execution_count": 59,
   "metadata": {},
   "outputs": [],
   "source": [
    "from sklearn.model_selection import train_test_split\n",
    "\n",
    "test_size = 0.2\n",
    "seed = 42\n",
    "\n",
    "X_train, X_test, y_train, y_test = train_test_split(X, y, test_size=test_size, random_state=seed)"
   ]
  },
  {
   "cell_type": "code",
   "execution_count": 60,
   "metadata": {},
   "outputs": [
    {
     "name": "stdout",
     "output_type": "stream",
     "text": [
      "(39618, 9) (39618, 1)\n",
      "(9905, 9) (9905, 1)\n"
     ]
    }
   ],
   "source": [
    "#---NORMALIZE DATA---\n",
    "\n",
    "scaler = MinMaxScaler(feature_range=(-1, 1))\n",
    "\n",
    "X_train = scaler.fit_transform(X_train)\n",
    "X_test = scaler.transform(X_test)\n",
    "\n",
    "y_train = scaler.fit_transform(y_train)\n",
    "y_test = scaler.transform(y_test)\n",
    "\n",
    "print (X_train.shape, y_train.shape)\n",
    "print (X_test.shape, y_test.shape)"
   ]
  },
  {
   "cell_type": "code",
   "execution_count": 61,
   "metadata": {},
   "outputs": [
    {
     "name": "stdout",
     "output_type": "stream",
     "text": [
      "(39618, 9) (39618, 1) (9905, 9) (9905, 1)\n"
     ]
    }
   ],
   "source": [
    "print(X_train.shape, y_train.shape, X_test.shape, y_test.shape)"
   ]
  },
  {
   "cell_type": "code",
   "execution_count": 62,
   "metadata": {},
   "outputs": [],
   "source": [
    "def create_data_sequence(X, y, time_steps=1):\n",
    "    \"\"\" Create data sequence\n",
    "    \n",
    "    Arguments:\n",
    "        * X: time-series data\n",
    "        * y: Count \"cnt\" value\n",
    "        * time_steps: Used to create input sequence of timesteps\n",
    "    \n",
    "    Returns:\n",
    "        * input_sequence: Numpy array of sequences of time-series data\n",
    "        * output: Numpy array of output i.e. next value for respective sequence\n",
    "    \n",
    "    \"\"\"\n",
    "    input_sequence, output = [], []\n",
    "    for i in range(len(X) - time_steps):\n",
    "        sequence = X[i:(i + time_steps), :]\n",
    "        \n",
    "        input_sequence.append(sequence)        \n",
    "        output.append(y[i + time_steps])\n",
    "    return np.array(input_sequence), np.array(output)"
   ]
  },
  {
   "cell_type": "code",
   "execution_count": 63,
   "metadata": {},
   "outputs": [],
   "source": [
    "time_steps = 8\n",
    "X_train, y_train = create_data_sequence(X_train, y_train, time_steps)\n",
    "X_test, y_test = create_data_sequence(X_test, y_test, time_steps)"
   ]
  },
  {
   "cell_type": "code",
   "execution_count": 64,
   "metadata": {},
   "outputs": [
    {
     "name": "stdout",
     "output_type": "stream",
     "text": [
      "Training data shape (39610, 8, 9) Training data output shape (39610, 1, 1)\n",
      "Test data shape (9897, 8, 9) Test data output shape (9897, 1, 1)\n"
     ]
    }
   ],
   "source": [
    "# We get training and test set sequences as [samples, time_steps, n_features]\n",
    "y_train = y_train.reshape(y_train.shape[0],1,  y_train.shape[1])\n",
    "y_test = y_test.reshape(y_test.shape[0], 1, y_test.shape[1])\n",
    "\n",
    "print(\"Training data shape\", X_train.shape, \"Training data output shape\", y_train.shape)\n",
    "print(\"Test data shape\", X_test.shape, \"Test data output shape\", y_test.shape)"
   ]
  },
  {
   "cell_type": "code",
   "execution_count": 65,
   "metadata": {},
   "outputs": [
    {
     "data": {
      "text/plain": [
       "(8, 9)"
      ]
     },
     "execution_count": 65,
     "metadata": {},
     "output_type": "execute_result"
    }
   ],
   "source": [
    "input_shape=(X_train.shape[1], X_train.shape[2])\n",
    "input_shape"
   ]
  },
  {
   "cell_type": "code",
   "execution_count": 66,
   "metadata": {},
   "outputs": [
    {
     "data": {
      "text/plain": [
       "9"
      ]
     },
     "execution_count": 66,
     "metadata": {},
     "output_type": "execute_result"
    }
   ],
   "source": [
    "num_x_signals = X.shape[1]\n",
    "num_x_signals"
   ]
  },
  {
   "cell_type": "code",
   "execution_count": 67,
   "metadata": {},
   "outputs": [
    {
     "data": {
      "text/plain": [
       "1"
      ]
     },
     "execution_count": 67,
     "metadata": {},
     "output_type": "execute_result"
    }
   ],
   "source": [
    "num_y_signals = y.shape[1]\n",
    "num_y_signals"
   ]
  },
  {
   "cell_type": "code",
   "execution_count": 68,
   "metadata": {},
   "outputs": [],
   "source": [
    "def model_lstm():\n",
    "    \n",
    "    model = tf.keras.models.Sequential()\n",
    "    \n",
    "    model.add(LSTM(128, activation='relu', return_sequences=True, \n",
    "                   input_shape=(X_train.shape[1], X_train.shape[2])))\n",
    "    #model.add(LSTM(100, activation='relu'))\n",
    "    model.add(Dense(num_y_signals))\n",
    "    model.compile(optimizer= 'adam', loss='mae')\n",
    "    #model.compile(loss='mae', optimizer='adam', metrics=['mse']) # mse = mean squared error\n",
    "    \n",
    "    return model"
   ]
  },
  {
   "cell_type": "code",
   "execution_count": 69,
   "metadata": {
    "scrolled": true
   },
   "outputs": [
    {
     "name": "stdout",
     "output_type": "stream",
     "text": [
      "Epoch 1/100\n",
      "558/558 [==============================] - 6s 7ms/step - loss: 0.2265 - val_loss: 0.1935\n",
      "Epoch 2/100\n",
      "558/558 [==============================] - 4s 7ms/step - loss: 0.1933 - val_loss: 0.1930\n",
      "Epoch 3/100\n",
      "558/558 [==============================] - 3s 6ms/step - loss: 0.1930 - val_loss: 0.1929\n",
      "Epoch 4/100\n",
      "558/558 [==============================] - 4s 6ms/step - loss: 0.1929 - val_loss: 0.1928\n",
      "Epoch 5/100\n",
      "558/558 [==============================] - 3s 6ms/step - loss: 0.1928 - val_loss: 0.1927\n",
      "Epoch 6/100\n",
      "558/558 [==============================] - 4s 6ms/step - loss: 0.1927 - val_loss: 0.1927\n",
      "Epoch 7/100\n",
      "558/558 [==============================] - 3s 6ms/step - loss: 0.1927 - val_loss: 0.1927\n",
      "Epoch 8/100\n",
      "558/558 [==============================] - 3s 6ms/step - loss: 0.1926 - val_loss: 0.1927\n",
      "Epoch 9/100\n",
      "558/558 [==============================] - 4s 6ms/step - loss: 0.1926 - val_loss: 0.1926\n",
      "Epoch 10/100\n",
      "558/558 [==============================] - 4s 6ms/step - loss: 0.1926 - val_loss: 0.1927\n",
      "Epoch 11/100\n",
      "558/558 [==============================] - 3s 6ms/step - loss: 0.1926 - val_loss: 0.1927\n",
      "Epoch 12/100\n",
      "558/558 [==============================] - 3s 6ms/step - loss: 0.1925 - val_loss: 0.1927\n",
      "Epoch 13/100\n",
      "558/558 [==============================] - 3s 6ms/step - loss: 0.1925 - val_loss: 0.1927\n",
      "Epoch 14/100\n",
      "558/558 [==============================] - 4s 7ms/step - loss: 0.1924 - val_loss: 0.1926\n",
      "Epoch 15/100\n",
      "558/558 [==============================] - 3s 6ms/step - loss: 0.1923 - val_loss: 0.1927\n",
      "Epoch 16/100\n",
      "558/558 [==============================] - 4s 7ms/step - loss: 0.1923 - val_loss: 0.1927\n",
      "Epoch 17/100\n",
      "558/558 [==============================] - 4s 7ms/step - loss: 0.1922 - val_loss: 0.1927\n",
      "Epoch 18/100\n",
      "558/558 [==============================] - 4s 7ms/step - loss: 0.1922 - val_loss: 0.1928\n",
      "Epoch 19/100\n",
      "558/558 [==============================] - 4s 7ms/step - loss: 0.1921 - val_loss: 0.1928\n",
      "Epoch 20/100\n",
      "558/558 [==============================] - 4s 8ms/step - loss: 0.1920 - val_loss: 0.1928\n",
      "Epoch 21/100\n",
      "558/558 [==============================] - 4s 7ms/step - loss: 0.1920 - val_loss: 0.1928\n",
      "Epoch 22/100\n",
      "558/558 [==============================] - 4s 8ms/step - loss: 0.1919 - val_loss: 0.1929\n",
      "Epoch 23/100\n",
      "558/558 [==============================] - 4s 8ms/step - loss: 0.1918 - val_loss: 0.1929\n",
      "Epoch 24/100\n",
      "558/558 [==============================] - 4s 7ms/step - loss: 0.1917 - val_loss: 0.1929\n",
      "Epoch 25/100\n",
      "558/558 [==============================] - 3s 6ms/step - loss: 0.1915 - val_loss: 0.1930\n",
      "Epoch 26/100\n",
      "558/558 [==============================] - 4s 7ms/step - loss: 0.1914 - val_loss: 0.1931\n",
      "Epoch 27/100\n",
      "558/558 [==============================] - 4s 7ms/step - loss: 0.1913 - val_loss: 0.1932\n",
      "Epoch 28/100\n",
      "558/558 [==============================] - 4s 7ms/step - loss: 0.1912 - val_loss: 0.1933\n",
      "Epoch 29/100\n",
      "558/558 [==============================] - 4s 7ms/step - loss: 0.1912 - val_loss: 0.1933\n",
      "Epoch 30/100\n",
      "558/558 [==============================] - 4s 7ms/step - loss: 0.1909 - val_loss: 0.1937\n",
      "Epoch 31/100\n",
      "558/558 [==============================] - 4s 7ms/step - loss: 0.1909 - val_loss: 0.1937\n",
      "Epoch 32/100\n",
      "558/558 [==============================] - 4s 7ms/step - loss: 0.1907 - val_loss: 0.1939\n",
      "Epoch 33/100\n",
      "558/558 [==============================] - 4s 7ms/step - loss: 0.1907 - val_loss: 0.1936\n",
      "Epoch 34/100\n",
      "558/558 [==============================] - 4s 7ms/step - loss: 0.1904 - val_loss: 0.1938\n",
      "Epoch 35/100\n",
      "558/558 [==============================] - 4s 7ms/step - loss: 0.1902 - val_loss: 0.1939\n",
      "Epoch 36/100\n",
      "558/558 [==============================] - 4s 7ms/step - loss: 0.1900 - val_loss: 0.1943\n",
      "Epoch 37/100\n",
      "558/558 [==============================] - 4s 6ms/step - loss: 0.1898 - val_loss: 0.1942\n",
      "Epoch 38/100\n",
      "558/558 [==============================] - 3s 6ms/step - loss: 0.1897 - val_loss: 0.1943\n",
      "Epoch 39/100\n",
      "558/558 [==============================] - 4s 6ms/step - loss: 0.1896 - val_loss: 0.1943\n",
      "Epoch 40/100\n",
      "558/558 [==============================] - 4s 7ms/step - loss: 0.1893 - val_loss: 0.1946\n",
      "Epoch 41/100\n",
      "558/558 [==============================] - 3s 6ms/step - loss: 0.1891 - val_loss: 0.1944\n",
      "Epoch 42/100\n",
      "558/558 [==============================] - 4s 6ms/step - loss: 0.1888 - val_loss: 0.1950\n",
      "Epoch 43/100\n",
      "558/558 [==============================] - 3s 6ms/step - loss: 0.1886 - val_loss: 0.1951\n",
      "Epoch 44/100\n",
      "558/558 [==============================] - 3s 6ms/step - loss: 0.1884 - val_loss: 0.1956\n",
      "Epoch 45/100\n",
      "558/558 [==============================] - 3s 6ms/step - loss: 0.1882 - val_loss: 0.1959\n",
      "Epoch 46/100\n",
      "558/558 [==============================] - 4s 7ms/step - loss: 0.1880 - val_loss: 0.1961\n",
      "Epoch 47/100\n",
      "558/558 [==============================] - 4s 6ms/step - loss: 0.1877 - val_loss: 0.1957\n",
      "Epoch 48/100\n",
      "558/558 [==============================] - 3s 6ms/step - loss: 0.1878 - val_loss: 0.1957\n",
      "Epoch 49/100\n",
      "558/558 [==============================] - 3s 6ms/step - loss: 0.1874 - val_loss: 0.1957\n",
      "Epoch 50/100\n",
      "558/558 [==============================] - 3s 6ms/step - loss: 0.1872 - val_loss: 0.1957\n",
      "Epoch 51/100\n",
      "558/558 [==============================] - 3s 6ms/step - loss: 0.1869 - val_loss: 0.1956\n",
      "Epoch 52/100\n",
      "558/558 [==============================] - 3s 6ms/step - loss: 0.1868 - val_loss: 0.1961\n",
      "Epoch 53/100\n",
      "558/558 [==============================] - 3s 6ms/step - loss: 0.1864 - val_loss: 0.1958\n",
      "Epoch 54/100\n",
      "558/558 [==============================] - 3s 6ms/step - loss: 0.1865 - val_loss: 0.1959\n",
      "Epoch 55/100\n",
      "558/558 [==============================] - 3s 6ms/step - loss: 0.1862 - val_loss: 0.1968\n",
      "Epoch 56/100\n",
      "558/558 [==============================] - 3s 6ms/step - loss: 0.1857 - val_loss: 0.1968\n",
      "Epoch 57/100\n",
      "558/558 [==============================] - 3s 6ms/step - loss: 0.1857 - val_loss: 0.1972\n",
      "Epoch 58/100\n",
      "558/558 [==============================] - 3s 6ms/step - loss: 0.1852 - val_loss: 0.1970\n",
      "Epoch 59/100\n",
      "558/558 [==============================] - 3s 6ms/step - loss: 0.1853 - val_loss: 0.1971\n",
      "Epoch 60/100\n",
      "558/558 [==============================] - 3s 6ms/step - loss: 0.1848 - val_loss: 0.1973\n",
      "Epoch 61/100\n",
      "558/558 [==============================] - 3s 6ms/step - loss: 0.1849 - val_loss: 0.1978\n",
      "Epoch 62/100\n",
      "558/558 [==============================] - 3s 6ms/step - loss: 0.1842 - val_loss: 0.1983\n",
      "Epoch 63/100\n",
      "558/558 [==============================] - 3s 6ms/step - loss: 0.1841 - val_loss: 0.1982\n",
      "Epoch 64/100\n",
      "558/558 [==============================] - 3s 6ms/step - loss: 0.1837 - val_loss: 0.1984\n",
      "Epoch 65/100\n",
      "558/558 [==============================] - 3s 6ms/step - loss: 0.1834 - val_loss: 0.1985\n",
      "Epoch 66/100\n",
      "558/558 [==============================] - 3s 6ms/step - loss: 0.1831 - val_loss: 0.1989\n",
      "Epoch 67/100\n",
      "558/558 [==============================] - 3s 6ms/step - loss: 0.1830 - val_loss: 0.1988\n",
      "Epoch 68/100\n",
      "558/558 [==============================] - 3s 6ms/step - loss: 0.1829 - val_loss: 0.1998\n",
      "Epoch 69/100\n",
      "558/558 [==============================] - 4s 6ms/step - loss: 0.1827 - val_loss: 0.1995\n",
      "Epoch 70/100\n",
      "558/558 [==============================] - 4s 6ms/step - loss: 0.1824 - val_loss: 0.1999\n",
      "Epoch 71/100\n",
      "558/558 [==============================] - 3s 6ms/step - loss: 0.1820 - val_loss: 0.1996\n",
      "Epoch 72/100\n",
      "558/558 [==============================] - 3s 6ms/step - loss: 0.1821 - val_loss: 0.2005\n",
      "Epoch 73/100\n",
      "558/558 [==============================] - 3s 6ms/step - loss: 0.1816 - val_loss: 0.1997\n",
      "Epoch 74/100\n",
      "558/558 [==============================] - 3s 6ms/step - loss: 0.1815 - val_loss: 0.2003\n",
      "Epoch 75/100\n",
      "558/558 [==============================] - 3s 6ms/step - loss: 0.1811 - val_loss: 0.2002\n",
      "Epoch 76/100\n",
      "558/558 [==============================] - 3s 6ms/step - loss: 0.1811 - val_loss: 0.2002\n",
      "Epoch 77/100\n",
      "558/558 [==============================] - 3s 6ms/step - loss: 0.1805 - val_loss: 0.2006\n",
      "Epoch 78/100\n",
      "558/558 [==============================] - 3s 6ms/step - loss: 0.1803 - val_loss: 0.2008\n",
      "Epoch 79/100\n",
      "558/558 [==============================] - 4s 7ms/step - loss: 0.1801 - val_loss: 0.2000\n",
      "Epoch 80/100\n",
      "558/558 [==============================] - 4s 7ms/step - loss: 0.1799 - val_loss: 0.2008\n",
      "Epoch 81/100\n",
      "558/558 [==============================] - 3s 6ms/step - loss: 0.1795 - val_loss: 0.2012\n",
      "Epoch 82/100\n",
      "558/558 [==============================] - 3s 6ms/step - loss: 0.1792 - val_loss: 0.2015\n",
      "Epoch 83/100\n",
      "558/558 [==============================] - 3s 6ms/step - loss: 0.1791 - val_loss: 0.2009\n",
      "Epoch 84/100\n",
      "558/558 [==============================] - 3s 6ms/step - loss: 0.1788 - val_loss: 0.2014\n",
      "Epoch 85/100\n",
      "558/558 [==============================] - 3s 6ms/step - loss: 0.1785 - val_loss: 0.2016\n",
      "Epoch 86/100\n",
      "558/558 [==============================] - 3s 6ms/step - loss: 0.1783 - val_loss: 0.2021\n",
      "Epoch 87/100\n",
      "558/558 [==============================] - 3s 6ms/step - loss: 0.1780 - val_loss: 0.2024\n",
      "Epoch 88/100\n",
      "558/558 [==============================] - 3s 6ms/step - loss: 0.1779 - val_loss: 0.2022\n",
      "Epoch 89/100\n",
      "558/558 [==============================] - 3s 6ms/step - loss: 0.1781 - val_loss: 0.2027\n",
      "Epoch 90/100\n",
      "558/558 [==============================] - 3s 6ms/step - loss: 0.1774 - val_loss: 0.2029\n",
      "Epoch 91/100\n",
      "558/558 [==============================] - 3s 6ms/step - loss: 0.1778 - val_loss: 0.2044\n",
      "Epoch 92/100\n",
      "558/558 [==============================] - 3s 6ms/step - loss: 0.1773 - val_loss: 0.2031\n",
      "Epoch 93/100\n",
      "558/558 [==============================] - 3s 6ms/step - loss: 0.1770 - val_loss: 0.2032\n",
      "Epoch 94/100\n",
      "558/558 [==============================] - 3s 6ms/step - loss: 0.1767 - val_loss: 0.2038\n",
      "Epoch 95/100\n",
      "558/558 [==============================] - 3s 6ms/step - loss: 0.1764 - val_loss: 0.2037\n",
      "Epoch 96/100\n",
      "558/558 [==============================] - 3s 6ms/step - loss: 0.1764 - val_loss: 0.2039\n",
      "Epoch 97/100\n",
      "558/558 [==============================] - 3s 6ms/step - loss: 0.1761 - val_loss: 0.2044\n",
      "Epoch 98/100\n",
      "558/558 [==============================] - 3s 6ms/step - loss: 0.1759 - val_loss: 0.2032\n",
      "Epoch 99/100\n",
      "558/558 [==============================] - 3s 6ms/step - loss: 0.1759 - val_loss: 0.2043\n",
      "Epoch 100/100\n",
      "558/558 [==============================] - 3s 6ms/step - loss: 0.1758 - val_loss: 0.2035\n"
     ]
    }
   ],
   "source": [
    "model_lstm = model_lstm()\n",
    "\n",
    "history_lstm = model_lstm.fit(\n",
    "    X_train,\n",
    "    y_train, \n",
    "    epochs=100, \n",
    "    batch_size=64, \n",
    "    validation_split=0.1,\n",
    "    shuffle=False,\n",
    ")"
   ]
  },
  {
   "cell_type": "code",
   "execution_count": 70,
   "metadata": {},
   "outputs": [
    {
     "data": {
      "text/plain": [
       "(9897, 8, 9)"
      ]
     },
     "execution_count": 70,
     "metadata": {},
     "output_type": "execute_result"
    }
   ],
   "source": [
    "X_test.shape"
   ]
  },
  {
   "cell_type": "code",
   "execution_count": 71,
   "metadata": {},
   "outputs": [
    {
     "name": "stdout",
     "output_type": "stream",
     "text": [
      "(9897, 8, 1)\n"
     ]
    }
   ],
   "source": [
    "yhat_lstm = model_lstm.predict(X_test)\n",
    "print (yhat_lstm.shape)"
   ]
  },
  {
   "cell_type": "code",
   "execution_count": 72,
   "metadata": {},
   "outputs": [
    {
     "data": {
      "text/plain": [
       "(9897, 1, 1)"
      ]
     },
     "execution_count": 72,
     "metadata": {},
     "output_type": "execute_result"
    }
   ],
   "source": [
    "y_test.shape"
   ]
  },
  {
   "cell_type": "code",
   "execution_count": 73,
   "metadata": {},
   "outputs": [],
   "source": [
    "def relative_percent_error(y_true, y_pred):\n",
    "    y_true, y_pred = np.array(y_true), np.array(y_pred)\n",
    "    return np.sum(np.abs(y_true - y_pred))/np.sum(abs(y_true)) * 100"
   ]
  },
  {
   "cell_type": "code",
   "execution_count": 74,
   "metadata": {},
   "outputs": [],
   "source": [
    "# Prediction !!!!\n",
    "    \n",
    "\n",
    "models.loc['RPE','LSTM'] = round(relative_percent_error(y_test, yhat_lstm), 2)\n",
    "models.loc['MAE','LSTM'] = mean_absolute_error(y_test, yhat_lstm)\n",
    "models.loc['MAPE','LSTM'] = mean_absolute_percentage_error(y_test, yhat_lstm)"
   ]
  },
  {
   "cell_type": "code",
   "execution_count": 75,
   "metadata": {},
   "outputs": [
    {
     "name": "stdout",
     "output_type": "stream",
     "text": [
      "(9897, 8, 1) (9897, 1, 1)\n"
     ]
    }
   ],
   "source": [
    "print(yhat_lstm.shape, y_test.shape)\n"
   ]
  },
  {
   "cell_type": "raw",
   "metadata": {},
   "source": [
    "X_test = X_test.reshape((X_test.shape[0], num_x_signals*time_steps))\n",
    "X_test.shape"
   ]
  },
  {
   "cell_type": "code",
   "execution_count": 76,
   "metadata": {},
   "outputs": [
    {
     "name": "stdout",
     "output_type": "stream",
     "text": [
      "(9897, 8)\n"
     ]
    }
   ],
   "source": [
    "yhat_lstm = yhat_lstm.reshape((yhat_lstm.shape[0], yhat_lstm.shape[1]))\n",
    "print(yhat_lstm.shape)"
   ]
  },
  {
   "cell_type": "code",
   "execution_count": 77,
   "metadata": {},
   "outputs": [
    {
     "name": "stdout",
     "output_type": "stream",
     "text": [
      "(9897, 1)\n"
     ]
    }
   ],
   "source": [
    "y_test = y_test.reshape((len(y_test),1))\n",
    "print(y_test.shape)"
   ]
  },
  {
   "cell_type": "code",
   "execution_count": 78,
   "metadata": {},
   "outputs": [
    {
     "data": {
      "image/png": "[encoded data removed]",
      "text/plain": [
       "<Figure size 360x216 with 1 Axes>"
      ]
     },
     "metadata": {
      "needs_background": "light"
     },
     "output_type": "display_data"
    }
   ],
   "source": [
    "fig, ax = plt.subplots(figsize=(5,3))\n",
    "ax.scatter(yhat_lstm[:,0], y_test[:,0], s=4)\n",
    "ax.plot(y_test, y_test, color='red')\n",
    "ax.set_title(' LSTM model: G16B3_QP28 predicted frame')\n",
    "ax.set_xlabel('Predicted frame_size')\n",
    "ax.set_ylabel('Observed frame_size');"
   ]
  },
  {
   "cell_type": "code",
   "execution_count": null,
   "metadata": {},
   "outputs": [],
   "source": []
  },
  {
   "cell_type": "markdown",
   "metadata": {},
   "source": [
    "# CNN model"
   ]
  },
  {
   "cell_type": "code",
   "execution_count": 79,
   "metadata": {},
   "outputs": [
    {
     "name": "stdout",
     "output_type": "stream",
     "text": [
      "(39610, 8, 9) (39610, 1, 1) (9897, 8, 9) (9897, 1)\n"
     ]
    }
   ],
   "source": [
    "print(X_train.shape, y_train.shape, X_test.shape, y_test.shape)"
   ]
  },
  {
   "cell_type": "code",
   "execution_count": 80,
   "metadata": {},
   "outputs": [],
   "source": [
    "#********************Build Model****************************\n",
    "\n",
    "def cnn_model():\n",
    "    \n",
    "    model = tf.keras.models.Sequential()\n",
    "    model.add(Conv1D(filters=32, kernel_size=3, strides=1,\n",
    "                      input_shape=(X_train.shape[1], X_train.shape[2]\n",
    "                    )))\n",
    "    model.add(MaxPooling1D(pool_size=(2)))\n",
    "    model.add(Flatten())\n",
    "    model.add(Dropout(0.2))\n",
    "    model.add(Dense(1))\n",
    "    model.compile(optimizer='adam', loss='mse')\n",
    "    model.summary()\n",
    "      \n",
    "    return model"
   ]
  },
  {
   "cell_type": "code",
   "execution_count": 81,
   "metadata": {
    "scrolled": true
   },
   "outputs": [
    {
     "name": "stdout",
     "output_type": "stream",
     "text": [
      "Model: \"sequential_1\"\n",
      "_________________________________________________________________\n",
      "Layer (type)                 Output Shape              Param #   \n",
      "=================================================================\n",
      "conv1d (Conv1D)              (None, 6, 32)             896       \n",
      "_________________________________________________________________\n",
      "max_pooling1d (MaxPooling1D) (None, 3, 32)             0         \n",
      "_________________________________________________________________\n",
      "flatten (Flatten)            (None, 96)                0         \n",
      "_________________________________________________________________\n",
      "dropout (Dropout)            (None, 96)                0         \n",
      "_________________________________________________________________\n",
      "dense_2 (Dense)              (None, 1)                 97        \n",
      "=================================================================\n",
      "Total params: 993\n",
      "Trainable params: 993\n",
      "Non-trainable params: 0\n",
      "_________________________________________________________________\n",
      "Epoch 1/100\n",
      "991/991 [==============================] - 1s 1ms/step - loss: 0.1010 - val_loss: 0.0601\n",
      "Epoch 2/100\n",
      "991/991 [==============================] - 1s 912us/step - loss: 0.0643 - val_loss: 0.0597\n",
      "Epoch 3/100\n",
      "991/991 [==============================] - 1s 926us/step - loss: 0.0616 - val_loss: 0.0594\n",
      "Epoch 4/100\n",
      "991/991 [==============================] - 1s 926us/step - loss: 0.0611 - val_loss: 0.0598\n",
      "Epoch 5/100\n",
      "991/991 [==============================] - 1s 948us/step - loss: 0.0607 - val_loss: 0.0594\n",
      "Epoch 6/100\n",
      "991/991 [==============================] - 1s 958us/step - loss: 0.0603 - val_loss: 0.0595\n",
      "Epoch 7/100\n",
      "991/991 [==============================] - 1s 927us/step - loss: 0.0602 - val_loss: 0.0593\n",
      "Epoch 8/100\n",
      "991/991 [==============================] - 1s 967us/step - loss: 0.0601 - val_loss: 0.0590\n",
      "Epoch 9/100\n",
      "991/991 [==============================] - 1s 940us/step - loss: 0.0600 - val_loss: 0.0589\n",
      "Epoch 10/100\n",
      "991/991 [==============================] - 1s 943us/step - loss: 0.0599 - val_loss: 0.0587\n",
      "Epoch 11/100\n",
      "991/991 [==============================] - 1s 963us/step - loss: 0.0599 - val_loss: 0.0589\n",
      "Epoch 12/100\n",
      "991/991 [==============================] - 1s 927us/step - loss: 0.0599 - val_loss: 0.0589\n",
      "Epoch 13/100\n",
      "991/991 [==============================] - 1s 910us/step - loss: 0.0599 - val_loss: 0.0589\n",
      "Epoch 14/100\n",
      "991/991 [==============================] - 1s 922us/step - loss: 0.0598 - val_loss: 0.0589\n",
      "Epoch 15/100\n",
      "991/991 [==============================] - 1s 928us/step - loss: 0.0598 - val_loss: 0.0590\n",
      "Epoch 16/100\n",
      "991/991 [==============================] - 1s 928us/step - loss: 0.0598 - val_loss: 0.0589\n",
      "Epoch 17/100\n",
      "991/991 [==============================] - 1s 942us/step - loss: 0.0598 - val_loss: 0.0588\n",
      "Epoch 18/100\n",
      "991/991 [==============================] - 1s 927us/step - loss: 0.0598 - val_loss: 0.0589\n",
      "Epoch 19/100\n",
      "991/991 [==============================] - 1s 965us/step - loss: 0.0598 - val_loss: 0.0590\n",
      "Epoch 20/100\n",
      "991/991 [==============================] - 1s 942us/step - loss: 0.0598 - val_loss: 0.0588\n",
      "Epoch 21/100\n",
      "991/991 [==============================] - 1s 926us/step - loss: 0.0598 - val_loss: 0.0589\n",
      "Epoch 22/100\n",
      "991/991 [==============================] - 1s 926us/step - loss: 0.0598 - val_loss: 0.0588\n",
      "Epoch 23/100\n",
      "991/991 [==============================] - 1s 973us/step - loss: 0.0598 - val_loss: 0.0589\n",
      "Epoch 24/100\n",
      "991/991 [==============================] - 1s 924us/step - loss: 0.0598 - val_loss: 0.0589\n",
      "Epoch 25/100\n",
      "991/991 [==============================] - 1s 912us/step - loss: 0.0598 - val_loss: 0.0589\n",
      "Epoch 26/100\n",
      "991/991 [==============================] - 1s 934us/step - loss: 0.0597 - val_loss: 0.0589\n",
      "Epoch 27/100\n",
      "991/991 [==============================] - 1s 1ms/step - loss: 0.0598 - val_loss: 0.0589\n",
      "Epoch 28/100\n",
      "991/991 [==============================] - 1s 927us/step - loss: 0.0597 - val_loss: 0.0590\n",
      "Epoch 29/100\n",
      "991/991 [==============================] - 1s 928us/step - loss: 0.0597 - val_loss: 0.0589\n",
      "Epoch 30/100\n",
      "991/991 [==============================] - 1s 925us/step - loss: 0.0597 - val_loss: 0.0590\n",
      "Epoch 31/100\n",
      "991/991 [==============================] - 1s 928us/step - loss: 0.0598 - val_loss: 0.0590\n",
      "Epoch 32/100\n",
      "991/991 [==============================] - 1s 1ms/step - loss: 0.0598 - val_loss: 0.0590\n",
      "Epoch 33/100\n",
      "991/991 [==============================] - 1s 946us/step - loss: 0.0598 - val_loss: 0.0589\n",
      "Epoch 34/100\n",
      "991/991 [==============================] - 1s 928us/step - loss: 0.0597 - val_loss: 0.0590\n",
      "Epoch 35/100\n",
      "991/991 [==============================] - 1s 1ms/step - loss: 0.0598 - val_loss: 0.0588\n",
      "Epoch 36/100\n",
      "991/991 [==============================] - 1s 928us/step - loss: 0.0597 - val_loss: 0.0590\n",
      "Epoch 37/100\n",
      "991/991 [==============================] - 1s 981us/step - loss: 0.0597 - val_loss: 0.0590\n",
      "Epoch 38/100\n",
      "991/991 [==============================] - 1s 982us/step - loss: 0.0597 - val_loss: 0.0590\n",
      "Epoch 39/100\n",
      "991/991 [==============================] - 1s 923us/step - loss: 0.0597 - val_loss: 0.0590\n",
      "Epoch 40/100\n",
      "991/991 [==============================] - 1s 979us/step - loss: 0.0597 - val_loss: 0.0589\n",
      "Epoch 41/100\n",
      "991/991 [==============================] - 1s 944us/step - loss: 0.0597 - val_loss: 0.0590\n",
      "Epoch 42/100\n",
      "991/991 [==============================] - 1s 980us/step - loss: 0.0598 - val_loss: 0.0589\n",
      "Epoch 43/100\n",
      "991/991 [==============================] - ETA: 0s - loss: 0.059 - 1s 1ms/step - loss: 0.0597 - val_loss: 0.0589\n",
      "Epoch 44/100\n",
      "991/991 [==============================] - 1s 942us/step - loss: 0.0597 - val_loss: 0.0589\n",
      "Epoch 45/100\n",
      "991/991 [==============================] - 1s 929us/step - loss: 0.0597 - val_loss: 0.0589\n",
      "Epoch 46/100\n",
      "991/991 [==============================] - 1s 932us/step - loss: 0.0596 - val_loss: 0.0591\n",
      "Epoch 47/100\n",
      "991/991 [==============================] - 1s 973us/step - loss: 0.0598 - val_loss: 0.0590\n",
      "Epoch 48/100\n",
      "991/991 [==============================] - 1s 925us/step - loss: 0.0596 - val_loss: 0.0589\n",
      "Epoch 49/100\n",
      "991/991 [==============================] - 1s 915us/step - loss: 0.0597 - val_loss: 0.0590\n",
      "Epoch 50/100\n",
      "991/991 [==============================] - 1s 981us/step - loss: 0.0596 - val_loss: 0.0590\n",
      "Epoch 51/100\n",
      "991/991 [==============================] - 1s 928us/step - loss: 0.0597 - val_loss: 0.0589\n",
      "Epoch 52/100\n",
      "991/991 [==============================] - 1s 950us/step - loss: 0.0597 - val_loss: 0.0589\n",
      "Epoch 53/100\n",
      "991/991 [==============================] - 1s 926us/step - loss: 0.0597 - val_loss: 0.0589\n",
      "Epoch 54/100\n",
      "991/991 [==============================] - 1s 927us/step - loss: 0.0597 - val_loss: 0.0592\n",
      "Epoch 55/100\n",
      "991/991 [==============================] - 1s 911us/step - loss: 0.0597 - val_loss: 0.0589\n",
      "Epoch 56/100\n",
      "991/991 [==============================] - 1s 965us/step - loss: 0.0596 - val_loss: 0.0589\n",
      "Epoch 57/100\n",
      "991/991 [==============================] - 1s 926us/step - loss: 0.0597 - val_loss: 0.0588\n",
      "Epoch 58/100\n",
      "991/991 [==============================] - 1s 928us/step - loss: 0.0597 - val_loss: 0.0589\n",
      "Epoch 59/100\n",
      "991/991 [==============================] - 1s 925us/step - loss: 0.0597 - val_loss: 0.0590\n",
      "Epoch 60/100\n",
      "991/991 [==============================] - 1s 929us/step - loss: 0.0597 - val_loss: 0.0590\n",
      "Epoch 61/100\n",
      "991/991 [==============================] - 1s 955us/step - loss: 0.0597 - val_loss: 0.0591\n",
      "Epoch 62/100\n",
      "991/991 [==============================] - 1s 928us/step - loss: 0.0597 - val_loss: 0.0589\n",
      "Epoch 63/100\n",
      "991/991 [==============================] - 1s 946us/step - loss: 0.0597 - val_loss: 0.0589\n",
      "Epoch 64/100\n",
      "991/991 [==============================] - 1s 941us/step - loss: 0.0596 - val_loss: 0.0588\n",
      "Epoch 65/100\n",
      "991/991 [==============================] - 1s 928us/step - loss: 0.0595 - val_loss: 0.0589\n",
      "Epoch 66/100\n",
      "991/991 [==============================] - 1s 981us/step - loss: 0.0597 - val_loss: 0.0589\n",
      "Epoch 67/100\n",
      "991/991 [==============================] - 1s 980us/step - loss: 0.0597 - val_loss: 0.0589\n",
      "Epoch 68/100\n",
      "991/991 [==============================] - 1s 929us/step - loss: 0.0596 - val_loss: 0.0589\n",
      "Epoch 69/100\n",
      "991/991 [==============================] - 1s 942us/step - loss: 0.0596 - val_loss: 0.0589\n",
      "Epoch 70/100\n",
      "991/991 [==============================] - 1s 929us/step - loss: 0.0596 - val_loss: 0.0589\n",
      "Epoch 71/100\n",
      "991/991 [==============================] - 1s 980us/step - loss: 0.0596 - val_loss: 0.0590\n",
      "Epoch 72/100\n",
      "991/991 [==============================] - 1s 926us/step - loss: 0.0597 - val_loss: 0.0589\n",
      "Epoch 73/100\n",
      "991/991 [==============================] - 1s 1ms/step - loss: 0.0596 - val_loss: 0.0590\n",
      "Epoch 74/100\n",
      "991/991 [==============================] - 1s 1ms/step - loss: 0.0596 - val_loss: 0.0590\n",
      "Epoch 75/100\n",
      "991/991 [==============================] - 1s 909us/step - loss: 0.0596 - val_loss: 0.0589\n",
      "Epoch 76/100\n",
      "991/991 [==============================] - 1s 929us/step - loss: 0.0595 - val_loss: 0.0591\n",
      "Epoch 77/100\n",
      "991/991 [==============================] - 1s 943us/step - loss: 0.0596 - val_loss: 0.0590\n",
      "Epoch 78/100\n",
      "991/991 [==============================] - 1s 927us/step - loss: 0.0596 - val_loss: 0.0591\n",
      "Epoch 79/100\n",
      "991/991 [==============================] - 1s 933us/step - loss: 0.0596 - val_loss: 0.0589\n",
      "Epoch 80/100\n",
      "991/991 [==============================] - 1s 928us/step - loss: 0.0596 - val_loss: 0.0589\n",
      "Epoch 81/100\n",
      "991/991 [==============================] - 1s 986us/step - loss: 0.0595 - val_loss: 0.0589\n",
      "Epoch 82/100\n",
      "991/991 [==============================] - 1s 1ms/step - loss: 0.0596 - val_loss: 0.0589\n",
      "Epoch 83/100\n",
      "991/991 [==============================] - 1s 1ms/step - loss: 0.0597 - val_loss: 0.0589\n",
      "Epoch 84/100\n",
      "991/991 [==============================] - 1s 971us/step - loss: 0.0596 - val_loss: 0.0589\n",
      "Epoch 85/100\n",
      "991/991 [==============================] - 1s 943us/step - loss: 0.0595 - val_loss: 0.0589\n",
      "Epoch 86/100\n",
      "991/991 [==============================] - 1s 927us/step - loss: 0.0596 - val_loss: 0.0589\n",
      "Epoch 87/100\n",
      "991/991 [==============================] - 1s 934us/step - loss: 0.0595 - val_loss: 0.0589\n",
      "Epoch 88/100\n",
      "991/991 [==============================] - 1s 926us/step - loss: 0.0596 - val_loss: 0.0588\n",
      "Epoch 89/100\n",
      "991/991 [==============================] - 1s 928us/step - loss: 0.0595 - val_loss: 0.0589\n",
      "Epoch 90/100\n",
      "991/991 [==============================] - 1s 928us/step - loss: 0.0596 - val_loss: 0.0590\n",
      "Epoch 91/100\n",
      "991/991 [==============================] - 1s 985us/step - loss: 0.0596 - val_loss: 0.0591\n",
      "Epoch 92/100\n",
      "991/991 [==============================] - 1s 1ms/step - loss: 0.0595 - val_loss: 0.0590\n",
      "Epoch 93/100\n",
      "991/991 [==============================] - 1s 950us/step - loss: 0.0596 - val_loss: 0.0589\n",
      "Epoch 94/100\n",
      "991/991 [==============================] - 1s 927us/step - loss: 0.0596 - val_loss: 0.0591\n",
      "Epoch 95/100\n",
      "991/991 [==============================] - 1s 927us/step - loss: 0.0596 - val_loss: 0.0592\n",
      "Epoch 96/100\n",
      "991/991 [==============================] - 1s 951us/step - loss: 0.0595 - val_loss: 0.0591\n",
      "Epoch 97/100\n",
      "991/991 [==============================] - 1s 977us/step - loss: 0.0596 - val_loss: 0.0590\n",
      "Epoch 98/100\n",
      "991/991 [==============================] - 1s 927us/step - loss: 0.0595 - val_loss: 0.0590\n",
      "Epoch 99/100\n",
      "991/991 [==============================] - 1s 981us/step - loss: 0.0596 - val_loss: 0.0591\n",
      "Epoch 100/100\n",
      "991/991 [==============================] - 1s 973us/step - loss: 0.0595 - val_loss: 0.0592\n"
     ]
    }
   ],
   "source": [
    "model_cnn =cnn_model()\n",
    "\n",
    "history_cnn = model_cnn.fit(X_train, y_train, batch_size = 32,validation_split=0.2, epochs = 100, verbose=1,\n",
    "                     shuffle=False)\n"
   ]
  },
  {
   "cell_type": "code",
   "execution_count": 82,
   "metadata": {},
   "outputs": [
    {
     "data": {
      "image/png": "[encoded data removed]",
      "text/plain": [
       "<Figure size 432x288 with 1 Axes>"
      ]
     },
     "metadata": {
      "needs_background": "light"
     },
     "output_type": "display_data"
    }
   ],
   "source": [
    "#***************************************Model validation loss*****************************************\n",
    "plt.figure()\n",
    "plt.plot(history_cnn.history['loss'])\n",
    "plt.plot(history_cnn.history['val_loss'])\n",
    "plt.title('Model Loss')\n",
    "plt.ylabel('Validation loss')\n",
    "plt.xlabel('Epoch')\n",
    "plt.legend(['Training data loss', 'Validation data loss'], loc='upper right')\n",
    "plt.show()"
   ]
  },
  {
   "cell_type": "code",
   "execution_count": 83,
   "metadata": {},
   "outputs": [],
   "source": [
    "# Prediction Time !!!!\n",
    "yhat_cnn = model_cnn.predict(X_test)\n",
    "\n",
    "\n",
    "models.loc['RPE','CNN'] = round(relative_percent_error(y_test, yhat_cnn), 2)\n",
    "models.loc['MAE','CNN'] = mean_absolute_error(y_test, yhat_cnn)\n",
    "models.loc['MAPE','CNN'] = mean_absolute_percentage_error(y_test, yhat_cnn)"
   ]
  },
  {
   "cell_type": "code",
   "execution_count": 84,
   "metadata": {},
   "outputs": [
    {
     "data": {
      "text/html": [
       "<div>\n",
       "<style scoped>\n",
       "    .dataframe tbody tr th:only-of-type {\n",
       "        vertical-align: middle;\n",
       "    }\n",
       "\n",
       "    .dataframe tbody tr th {\n",
       "        vertical-align: top;\n",
       "    }\n",
       "\n",
       "    .dataframe thead th {\n",
       "        text-align: right;\n",
       "    }\n",
       "</style>\n",
       "<table border=\"1\" class=\"dataframe\">\n",
       "  <thead>\n",
       "    <tr style=\"text-align: right;\">\n",
       "      <th></th>\n",
       "      <th>seq2seq</th>\n",
       "      <th>LSTM</th>\n",
       "      <th>CNN</th>\n",
       "    </tr>\n",
       "  </thead>\n",
       "  <tbody>\n",
       "    <tr>\n",
       "      <th>RPE</th>\n",
       "      <td>50.84</td>\n",
       "      <td>339.11</td>\n",
       "      <td>40.22</td>\n",
       "    </tr>\n",
       "    <tr>\n",
       "      <th>MAE</th>\n",
       "      <td>24.191582</td>\n",
       "      <td>20.1698</td>\n",
       "      <td>19.137156</td>\n",
       "    </tr>\n",
       "    <tr>\n",
       "      <th>MAPE</th>\n",
       "      <td>208.675488</td>\n",
       "      <td>211.158892</td>\n",
       "      <td>202.859881</td>\n",
       "    </tr>\n",
       "  </tbody>\n",
       "</table>\n",
       "</div>"
      ],
      "text/plain": [
       "         seq2seq        LSTM         CNN\n",
       "RPE        50.84      339.11       40.22\n",
       "MAE    24.191582     20.1698   19.137156\n",
       "MAPE  208.675488  211.158892  202.859881"
      ]
     },
     "execution_count": 84,
     "metadata": {},
     "output_type": "execute_result"
    }
   ],
   "source": [
    "models"
   ]
  },
  {
   "cell_type": "code",
   "execution_count": 85,
   "metadata": {},
   "outputs": [
    {
     "data": {
      "image/png": "[encoded data removed]",
      "text/plain": [
       "<Figure size 360x216 with 1 Axes>"
      ]
     },
     "metadata": {
      "needs_background": "light"
     },
     "output_type": "display_data"
    }
   ],
   "source": [
    "fig, ax = plt.subplots(figsize=(5,3))\n",
    "ax.scatter(yhat_cnn[:,0], y_test[:,0] , s=4)\n",
    "ax.plot(y_test, y_test, color='red')\n",
    "ax.set_title('CNN model: G16B3_QP10 predicted frame')\n",
    "ax.set_xlabel('Predicted frame_size')\n",
    "ax.set_ylabel('Observed frame_size');"
   ]
  },
  {
   "cell_type": "code",
   "execution_count": 86,
   "metadata": {},
   "outputs": [
    {
     "data": {
      "text/html": [
       "<div>\n",
       "<style scoped>\n",
       "    .dataframe tbody tr th:only-of-type {\n",
       "        vertical-align: middle;\n",
       "    }\n",
       "\n",
       "    .dataframe tbody tr th {\n",
       "        vertical-align: top;\n",
       "    }\n",
       "\n",
       "    .dataframe thead th {\n",
       "        text-align: right;\n",
       "    }\n",
       "</style>\n",
       "<table border=\"1\" class=\"dataframe\">\n",
       "  <thead>\n",
       "    <tr style=\"text-align: right;\">\n",
       "      <th></th>\n",
       "      <th>seq2seq</th>\n",
       "      <th>LSTM</th>\n",
       "      <th>CNN</th>\n",
       "    </tr>\n",
       "  </thead>\n",
       "  <tbody>\n",
       "    <tr>\n",
       "      <th>RPE</th>\n",
       "      <td>50.84</td>\n",
       "      <td>339.11</td>\n",
       "      <td>40.22</td>\n",
       "    </tr>\n",
       "    <tr>\n",
       "      <th>MAE</th>\n",
       "      <td>24.191582</td>\n",
       "      <td>20.1698</td>\n",
       "      <td>19.137156</td>\n",
       "    </tr>\n",
       "    <tr>\n",
       "      <th>MAPE</th>\n",
       "      <td>208.675488</td>\n",
       "      <td>211.158892</td>\n",
       "      <td>202.859881</td>\n",
       "    </tr>\n",
       "  </tbody>\n",
       "</table>\n",
       "</div>"
      ],
      "text/plain": [
       "         seq2seq        LSTM         CNN\n",
       "RPE        50.84      339.11       40.22\n",
       "MAE    24.191582     20.1698   19.137156\n",
       "MAPE  208.675488  211.158892  202.859881"
      ]
     },
     "execution_count": 86,
     "metadata": {},
     "output_type": "execute_result"
    }
   ],
   "source": [
    "models"
   ]
  },
  {
   "cell_type": "code",
   "execution_count": 87,
   "metadata": {},
   "outputs": [
    {
     "data": {
      "image/png": "[encoded data removed]",
      "text/plain": [
       "<Figure size 432x216 with 1 Axes>"
      ]
     },
     "metadata": {},
     "output_type": "display_data"
    }
   ],
   "source": [
    "import seaborn as sns\n",
    "sns.set_style(\"dark\")\n",
    "\n",
    "\n",
    "models.plot(kind='bar', width=0.8, figsize=(6,3))\n",
    "plt.xticks(rotation=30, horizontalalignment=\"center\")\n",
    "plt.title('NBC news G16B3_QP28');\n",
    "plt.xlabel('Models')\n",
    "plt.ylabel('Metrics')\n",
    "#ax2.set_ylabel('mape')\n",
    "\n",
    "plt.show()"
   ]
  },
  {
   "cell_type": "code",
   "execution_count": 88,
   "metadata": {},
   "outputs": [
    {
     "data": {
      "image/png": "[encoded data removed]",
      "text/plain": [
       "<Figure size 432x288 with 1 Axes>"
      ]
     },
     "metadata": {},
     "output_type": "display_data"
    }
   ],
   "source": [
    "# Loss of the model\n",
    "\n",
    "def plot_history(histories, key=  'loss'):\n",
    "  #plt.figure(figsize=(15,10))\n",
    "    \n",
    "  for name, history in histories:\n",
    "    plt.plot(history.epoch, history.history[key],\n",
    "             label=name.title())\n",
    "    \n",
    "  plt.xlabel('Epochs')\n",
    "  plt.ylabel(key.replace('_',' ').title())\n",
    "  plt.legend()\n",
    "  plt.xlim([0,max(history.epoch)])\n",
    "\n",
    "\n",
    "plot_history([('seq2seq', history),\n",
    "              ('LSTM', history_lstm),\n",
    "              ('CNN', history_cnn)])"
   ]
  },
  {
   "cell_type": "code",
   "execution_count": null,
   "metadata": {},
   "outputs": [],
   "source": []
  },
  {
   "cell_type": "code",
   "execution_count": null,
   "metadata": {},
   "outputs": [],
   "source": []
  },
  {
   "cell_type": "code",
   "execution_count": null,
   "metadata": {},
   "outputs": [],
   "source": []
  },
  {
   "cell_type": "code",
   "execution_count": null,
   "metadata": {},
   "outputs": [],
   "source": []
  },
  {
   "cell_type": "code",
   "execution_count": null,
   "metadata": {},
   "outputs": [],
   "source": []
  },
  {
   "cell_type": "code",
   "execution_count": null,
   "metadata": {},
   "outputs": [],
   "source": []
  },
  {
   "cell_type": "code",
   "execution_count": null,
   "metadata": {},
   "outputs": [],
   "source": []
  }
 ],
 "metadata": {
  "kernelspec": {
   "display_name": "Python 3",
   "language": "python",
   "name": "python3"
  },
  "language_info": {
   "codemirror_mode": {
    "name": "ipython",
    "version": 3
   },
   "file_extension": ".py",
   "mimetype": "text/x-python",
   "name": "python",
   "nbconvert_exporter": "python",
   "pygments_lexer": "ipython3",
   "version": "3.8.5"
  }
 },
 "nbformat": 4,
 "nbformat_minor": 2
}
